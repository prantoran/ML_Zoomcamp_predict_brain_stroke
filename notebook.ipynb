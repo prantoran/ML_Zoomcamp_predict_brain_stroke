{
 "cells": [
  {
   "cell_type": "markdown",
   "id": "0d1418b6",
   "metadata": {},
   "source": [
    "# Brain Stroke Dataset\n",
    "\n",
    "This is midterm project for the ML Zoomcamp 2023.\n",
    "\n",
    "Dataset: https://www.kaggle.com/datasets/jillanisofttech/brain-stroke-dataset"
   ]
  },
  {
   "cell_type": "code",
   "execution_count": 120,
   "id": "7c82a72b",
   "metadata": {},
   "outputs": [],
   "source": [
    "from matplotlib import pyplot as plt\n",
    "%matplotlib inline\n",
    "\n",
    "import numpy as np\n",
    "import pandas as pd \n",
    "import seaborn as sns \n",
    "\n",
    "from sklearn.feature_extraction import DictVectorizer\n",
    "from sklearn.linear_model import LogisticRegression, Ridge\n",
    "from sklearn.metrics import mutual_info_score\n",
    "from sklearn.metrics import roc_auc_score\n",
    "from sklearn.model_selection import train_test_split\n",
    "from sklearn.model_selection import KFold\n",
    "from sklearn.metrics import mean_squared_error\n",
    "from sklearn.ensemble import RandomForestClassifier\n",
    "import unidecode\n",
    "\n",
    "import warnings\n",
    "warnings.filterwarnings('ignore')\n",
    "\n",
    "from tqdm.auto import tqdm"
   ]
  },
  {
   "cell_type": "code",
   "execution_count": 121,
   "id": "71ea9020",
   "metadata": {},
   "outputs": [],
   "source": [
    "df = pd.read_csv('data/brain_stroke.csv')"
   ]
  },
  {
   "cell_type": "code",
   "execution_count": 122,
   "id": "f18f7bd0",
   "metadata": {},
   "outputs": [
    {
     "data": {
      "text/html": [
       "<div>\n",
       "<style scoped>\n",
       "    .dataframe tbody tr th:only-of-type {\n",
       "        vertical-align: middle;\n",
       "    }\n",
       "\n",
       "    .dataframe tbody tr th {\n",
       "        vertical-align: top;\n",
       "    }\n",
       "\n",
       "    .dataframe thead th {\n",
       "        text-align: right;\n",
       "    }\n",
       "</style>\n",
       "<table border=\"1\" class=\"dataframe\">\n",
       "  <thead>\n",
       "    <tr style=\"text-align: right;\">\n",
       "      <th></th>\n",
       "      <th>0</th>\n",
       "      <th>1</th>\n",
       "      <th>2</th>\n",
       "      <th>3</th>\n",
       "      <th>4</th>\n",
       "    </tr>\n",
       "  </thead>\n",
       "  <tbody>\n",
       "    <tr>\n",
       "      <th>gender</th>\n",
       "      <td>Male</td>\n",
       "      <td>Male</td>\n",
       "      <td>Female</td>\n",
       "      <td>Female</td>\n",
       "      <td>Male</td>\n",
       "    </tr>\n",
       "    <tr>\n",
       "      <th>age</th>\n",
       "      <td>67.0</td>\n",
       "      <td>80.0</td>\n",
       "      <td>49.0</td>\n",
       "      <td>79.0</td>\n",
       "      <td>81.0</td>\n",
       "    </tr>\n",
       "    <tr>\n",
       "      <th>hypertension</th>\n",
       "      <td>0</td>\n",
       "      <td>0</td>\n",
       "      <td>0</td>\n",
       "      <td>1</td>\n",
       "      <td>0</td>\n",
       "    </tr>\n",
       "    <tr>\n",
       "      <th>heart_disease</th>\n",
       "      <td>1</td>\n",
       "      <td>1</td>\n",
       "      <td>0</td>\n",
       "      <td>0</td>\n",
       "      <td>0</td>\n",
       "    </tr>\n",
       "    <tr>\n",
       "      <th>ever_married</th>\n",
       "      <td>Yes</td>\n",
       "      <td>Yes</td>\n",
       "      <td>Yes</td>\n",
       "      <td>Yes</td>\n",
       "      <td>Yes</td>\n",
       "    </tr>\n",
       "    <tr>\n",
       "      <th>work_type</th>\n",
       "      <td>Private</td>\n",
       "      <td>Private</td>\n",
       "      <td>Private</td>\n",
       "      <td>Self-employed</td>\n",
       "      <td>Private</td>\n",
       "    </tr>\n",
       "    <tr>\n",
       "      <th>Residence_type</th>\n",
       "      <td>Urban</td>\n",
       "      <td>Rural</td>\n",
       "      <td>Urban</td>\n",
       "      <td>Rural</td>\n",
       "      <td>Urban</td>\n",
       "    </tr>\n",
       "    <tr>\n",
       "      <th>avg_glucose_level</th>\n",
       "      <td>228.69</td>\n",
       "      <td>105.92</td>\n",
       "      <td>171.23</td>\n",
       "      <td>174.12</td>\n",
       "      <td>186.21</td>\n",
       "    </tr>\n",
       "    <tr>\n",
       "      <th>bmi</th>\n",
       "      <td>36.6</td>\n",
       "      <td>32.5</td>\n",
       "      <td>34.4</td>\n",
       "      <td>24.0</td>\n",
       "      <td>29.0</td>\n",
       "    </tr>\n",
       "    <tr>\n",
       "      <th>smoking_status</th>\n",
       "      <td>formerly smoked</td>\n",
       "      <td>never smoked</td>\n",
       "      <td>smokes</td>\n",
       "      <td>never smoked</td>\n",
       "      <td>formerly smoked</td>\n",
       "    </tr>\n",
       "    <tr>\n",
       "      <th>stroke</th>\n",
       "      <td>1</td>\n",
       "      <td>1</td>\n",
       "      <td>1</td>\n",
       "      <td>1</td>\n",
       "      <td>1</td>\n",
       "    </tr>\n",
       "  </tbody>\n",
       "</table>\n",
       "</div>"
      ],
      "text/plain": [
       "                                 0             1        2              3  \\\n",
       "gender                        Male          Male   Female         Female   \n",
       "age                           67.0          80.0     49.0           79.0   \n",
       "hypertension                     0             0        0              1   \n",
       "heart_disease                    1             1        0              0   \n",
       "ever_married                   Yes           Yes      Yes            Yes   \n",
       "work_type                  Private       Private  Private  Self-employed   \n",
       "Residence_type               Urban         Rural    Urban          Rural   \n",
       "avg_glucose_level           228.69        105.92   171.23         174.12   \n",
       "bmi                           36.6          32.5     34.4           24.0   \n",
       "smoking_status     formerly smoked  never smoked   smokes   never smoked   \n",
       "stroke                           1             1        1              1   \n",
       "\n",
       "                                 4  \n",
       "gender                        Male  \n",
       "age                           81.0  \n",
       "hypertension                     0  \n",
       "heart_disease                    0  \n",
       "ever_married                   Yes  \n",
       "work_type                  Private  \n",
       "Residence_type               Urban  \n",
       "avg_glucose_level           186.21  \n",
       "bmi                           29.0  \n",
       "smoking_status     formerly smoked  \n",
       "stroke                           1  "
      ]
     },
     "execution_count": 122,
     "metadata": {},
     "output_type": "execute_result"
    }
   ],
   "source": [
    "df.head().T"
   ]
  },
  {
   "cell_type": "code",
   "execution_count": 123,
   "id": "2070289a",
   "metadata": {},
   "outputs": [
    {
     "data": {
      "text/plain": [
       "(4981, 11)"
      ]
     },
     "execution_count": 123,
     "metadata": {},
     "output_type": "execute_result"
    }
   ],
   "source": [
    "df.shape"
   ]
  },
  {
   "cell_type": "code",
   "execution_count": 124,
   "id": "da866d28",
   "metadata": {},
   "outputs": [
    {
     "name": "stdout",
     "output_type": "stream",
     "text": [
      "<class 'pandas.core.frame.DataFrame'>\n",
      "RangeIndex: 4981 entries, 0 to 4980\n",
      "Data columns (total 11 columns):\n",
      " #   Column             Non-Null Count  Dtype  \n",
      "---  ------             --------------  -----  \n",
      " 0   gender             4981 non-null   object \n",
      " 1   age                4981 non-null   float64\n",
      " 2   hypertension       4981 non-null   int64  \n",
      " 3   heart_disease      4981 non-null   int64  \n",
      " 4   ever_married       4981 non-null   object \n",
      " 5   work_type          4981 non-null   object \n",
      " 6   Residence_type     4981 non-null   object \n",
      " 7   avg_glucose_level  4981 non-null   float64\n",
      " 8   bmi                4981 non-null   float64\n",
      " 9   smoking_status     4981 non-null   object \n",
      " 10  stroke             4981 non-null   int64  \n",
      "dtypes: float64(3), int64(3), object(5)\n",
      "memory usage: 428.2+ KB\n"
     ]
    }
   ],
   "source": [
    "df.info()"
   ]
  },
  {
   "cell_type": "code",
   "execution_count": 125,
   "id": "f762fd11",
   "metadata": {},
   "outputs": [
    {
     "data": {
      "text/plain": [
       "0"
      ]
     },
     "execution_count": 125,
     "metadata": {},
     "output_type": "execute_result"
    }
   ],
   "source": [
    "df.duplicated().sum()"
   ]
  },
  {
   "cell_type": "code",
   "execution_count": 126,
   "id": "63e31c11",
   "metadata": {},
   "outputs": [
    {
     "data": {
      "text/plain": [
       "(4981, 11)"
      ]
     },
     "execution_count": 126,
     "metadata": {},
     "output_type": "execute_result"
    }
   ],
   "source": [
    "df = df.drop_duplicates()\n",
    "df.shape"
   ]
  },
  {
   "cell_type": "code",
   "execution_count": 127,
   "id": "e5479d3e",
   "metadata": {},
   "outputs": [
    {
     "data": {
      "text/plain": [
       "gender                object\n",
       "age                  float64\n",
       "hypertension           int64\n",
       "heart_disease          int64\n",
       "ever_married          object\n",
       "work_type             object\n",
       "Residence_type        object\n",
       "avg_glucose_level    float64\n",
       "bmi                  float64\n",
       "smoking_status        object\n",
       "stroke                 int64\n",
       "dtype: object"
      ]
     },
     "execution_count": 127,
     "metadata": {},
     "output_type": "execute_result"
    }
   ],
   "source": [
    "df.dtypes"
   ]
  },
  {
   "cell_type": "markdown",
   "id": "ba055639",
   "metadata": {},
   "source": [
    "## Initial data preparation"
   ]
  },
  {
   "cell_type": "code",
   "execution_count": 128,
   "id": "d36c7783",
   "metadata": {},
   "outputs": [],
   "source": [
    "df.columns = df.columns.str.lower().str.replace(' ', '_')"
   ]
  },
  {
   "cell_type": "code",
   "execution_count": 129,
   "id": "054e234f",
   "metadata": {},
   "outputs": [
    {
     "data": {
      "text/plain": [
       "['gender', 'ever_married', 'work_type', 'residence_type', 'smoking_status']"
      ]
     },
     "execution_count": 129,
     "metadata": {},
     "output_type": "execute_result"
    }
   ],
   "source": [
    "string_columns = list(df.dtypes[df.dtypes == 'object'].index)\n",
    "string_columns"
   ]
  },
  {
   "cell_type": "code",
   "execution_count": 130,
   "id": "24a27a6c",
   "metadata": {},
   "outputs": [],
   "source": [
    "for col in string_columns:\n",
    "    df[col] = df[col].str.lower().str.replace(' ', '_')"
   ]
  },
  {
   "cell_type": "code",
   "execution_count": 131,
   "id": "60400241",
   "metadata": {},
   "outputs": [
    {
     "data": {
      "text/html": [
       "<div>\n",
       "<style scoped>\n",
       "    .dataframe tbody tr th:only-of-type {\n",
       "        vertical-align: middle;\n",
       "    }\n",
       "\n",
       "    .dataframe tbody tr th {\n",
       "        vertical-align: top;\n",
       "    }\n",
       "\n",
       "    .dataframe thead th {\n",
       "        text-align: right;\n",
       "    }\n",
       "</style>\n",
       "<table border=\"1\" class=\"dataframe\">\n",
       "  <thead>\n",
       "    <tr style=\"text-align: right;\">\n",
       "      <th></th>\n",
       "      <th>0</th>\n",
       "      <th>1</th>\n",
       "      <th>2</th>\n",
       "      <th>3</th>\n",
       "      <th>4</th>\n",
       "    </tr>\n",
       "  </thead>\n",
       "  <tbody>\n",
       "    <tr>\n",
       "      <th>gender</th>\n",
       "      <td>male</td>\n",
       "      <td>male</td>\n",
       "      <td>female</td>\n",
       "      <td>female</td>\n",
       "      <td>male</td>\n",
       "    </tr>\n",
       "    <tr>\n",
       "      <th>age</th>\n",
       "      <td>67.0</td>\n",
       "      <td>80.0</td>\n",
       "      <td>49.0</td>\n",
       "      <td>79.0</td>\n",
       "      <td>81.0</td>\n",
       "    </tr>\n",
       "    <tr>\n",
       "      <th>hypertension</th>\n",
       "      <td>0</td>\n",
       "      <td>0</td>\n",
       "      <td>0</td>\n",
       "      <td>1</td>\n",
       "      <td>0</td>\n",
       "    </tr>\n",
       "    <tr>\n",
       "      <th>heart_disease</th>\n",
       "      <td>1</td>\n",
       "      <td>1</td>\n",
       "      <td>0</td>\n",
       "      <td>0</td>\n",
       "      <td>0</td>\n",
       "    </tr>\n",
       "    <tr>\n",
       "      <th>ever_married</th>\n",
       "      <td>yes</td>\n",
       "      <td>yes</td>\n",
       "      <td>yes</td>\n",
       "      <td>yes</td>\n",
       "      <td>yes</td>\n",
       "    </tr>\n",
       "    <tr>\n",
       "      <th>work_type</th>\n",
       "      <td>private</td>\n",
       "      <td>private</td>\n",
       "      <td>private</td>\n",
       "      <td>self-employed</td>\n",
       "      <td>private</td>\n",
       "    </tr>\n",
       "    <tr>\n",
       "      <th>residence_type</th>\n",
       "      <td>urban</td>\n",
       "      <td>rural</td>\n",
       "      <td>urban</td>\n",
       "      <td>rural</td>\n",
       "      <td>urban</td>\n",
       "    </tr>\n",
       "    <tr>\n",
       "      <th>avg_glucose_level</th>\n",
       "      <td>228.69</td>\n",
       "      <td>105.92</td>\n",
       "      <td>171.23</td>\n",
       "      <td>174.12</td>\n",
       "      <td>186.21</td>\n",
       "    </tr>\n",
       "    <tr>\n",
       "      <th>bmi</th>\n",
       "      <td>36.6</td>\n",
       "      <td>32.5</td>\n",
       "      <td>34.4</td>\n",
       "      <td>24.0</td>\n",
       "      <td>29.0</td>\n",
       "    </tr>\n",
       "    <tr>\n",
       "      <th>smoking_status</th>\n",
       "      <td>formerly_smoked</td>\n",
       "      <td>never_smoked</td>\n",
       "      <td>smokes</td>\n",
       "      <td>never_smoked</td>\n",
       "      <td>formerly_smoked</td>\n",
       "    </tr>\n",
       "    <tr>\n",
       "      <th>stroke</th>\n",
       "      <td>1</td>\n",
       "      <td>1</td>\n",
       "      <td>1</td>\n",
       "      <td>1</td>\n",
       "      <td>1</td>\n",
       "    </tr>\n",
       "  </tbody>\n",
       "</table>\n",
       "</div>"
      ],
      "text/plain": [
       "                                 0             1        2              3  \\\n",
       "gender                        male          male   female         female   \n",
       "age                           67.0          80.0     49.0           79.0   \n",
       "hypertension                     0             0        0              1   \n",
       "heart_disease                    1             1        0              0   \n",
       "ever_married                   yes           yes      yes            yes   \n",
       "work_type                  private       private  private  self-employed   \n",
       "residence_type               urban         rural    urban          rural   \n",
       "avg_glucose_level           228.69        105.92   171.23         174.12   \n",
       "bmi                           36.6          32.5     34.4           24.0   \n",
       "smoking_status     formerly_smoked  never_smoked   smokes   never_smoked   \n",
       "stroke                           1             1        1              1   \n",
       "\n",
       "                                 4  \n",
       "gender                        male  \n",
       "age                           81.0  \n",
       "hypertension                     0  \n",
       "heart_disease                    0  \n",
       "ever_married                   yes  \n",
       "work_type                  private  \n",
       "residence_type               urban  \n",
       "avg_glucose_level           186.21  \n",
       "bmi                           29.0  \n",
       "smoking_status     formerly_smoked  \n",
       "stroke                           1  "
      ]
     },
     "execution_count": 131,
     "metadata": {},
     "output_type": "execute_result"
    }
   ],
   "source": [
    "df.head().T"
   ]
  },
  {
   "cell_type": "code",
   "execution_count": 132,
   "id": "89da6ee0",
   "metadata": {},
   "outputs": [
    {
     "data": {
      "text/plain": [
       "0    1\n",
       "1    1\n",
       "2    1\n",
       "3    1\n",
       "4    1\n",
       "Name: stroke, dtype: int64"
      ]
     },
     "execution_count": 132,
     "metadata": {},
     "output_type": "execute_result"
    }
   ],
   "source": [
    "df.stroke.head()"
   ]
  },
  {
   "cell_type": "markdown",
   "id": "631605d5",
   "metadata": {},
   "source": [
    "## Setting up the validation framework: Train test split"
   ]
  },
  {
   "cell_type": "code",
   "execution_count": 14,
   "id": "40d4fd87",
   "metadata": {},
   "outputs": [],
   "source": [
    "df_train_full, df_test = train_test_split(df, test_size=0.2, random_state=1)"
   ]
  },
  {
   "cell_type": "code",
   "execution_count": 15,
   "id": "15d033ac",
   "metadata": {},
   "outputs": [],
   "source": [
    "df_train, df_val = train_test_split(df_train_full, test_size=0.25, random_state=11)"
   ]
  },
  {
   "cell_type": "code",
   "execution_count": 16,
   "id": "05ba0443",
   "metadata": {},
   "outputs": [
    {
     "data": {
      "text/plain": [
       "(2988, 996, 997)"
      ]
     },
     "execution_count": 16,
     "metadata": {},
     "output_type": "execute_result"
    }
   ],
   "source": [
    "len(df_train), len(df_val), len(df_test)"
   ]
  },
  {
   "cell_type": "code",
   "execution_count": 17,
   "id": "d49a60a2",
   "metadata": {},
   "outputs": [
    {
     "data": {
      "text/html": [
       "<div>\n",
       "<style scoped>\n",
       "    .dataframe tbody tr th:only-of-type {\n",
       "        vertical-align: middle;\n",
       "    }\n",
       "\n",
       "    .dataframe tbody tr th {\n",
       "        vertical-align: top;\n",
       "    }\n",
       "\n",
       "    .dataframe thead th {\n",
       "        text-align: right;\n",
       "    }\n",
       "</style>\n",
       "<table border=\"1\" class=\"dataframe\">\n",
       "  <thead>\n",
       "    <tr style=\"text-align: right;\">\n",
       "      <th></th>\n",
       "      <th>818</th>\n",
       "      <th>861</th>\n",
       "      <th>4318</th>\n",
       "      <th>2431</th>\n",
       "      <th>752</th>\n",
       "    </tr>\n",
       "  </thead>\n",
       "  <tbody>\n",
       "    <tr>\n",
       "      <th>gender</th>\n",
       "      <td>female</td>\n",
       "      <td>female</td>\n",
       "      <td>female</td>\n",
       "      <td>male</td>\n",
       "      <td>female</td>\n",
       "    </tr>\n",
       "    <tr>\n",
       "      <th>age</th>\n",
       "      <td>59.0</td>\n",
       "      <td>47.0</td>\n",
       "      <td>34.0</td>\n",
       "      <td>80.0</td>\n",
       "      <td>36.0</td>\n",
       "    </tr>\n",
       "    <tr>\n",
       "      <th>hypertension</th>\n",
       "      <td>0</td>\n",
       "      <td>0</td>\n",
       "      <td>0</td>\n",
       "      <td>1</td>\n",
       "      <td>1</td>\n",
       "    </tr>\n",
       "    <tr>\n",
       "      <th>heart_disease</th>\n",
       "      <td>0</td>\n",
       "      <td>0</td>\n",
       "      <td>0</td>\n",
       "      <td>0</td>\n",
       "      <td>0</td>\n",
       "    </tr>\n",
       "    <tr>\n",
       "      <th>ever_married</th>\n",
       "      <td>yes</td>\n",
       "      <td>yes</td>\n",
       "      <td>no</td>\n",
       "      <td>yes</td>\n",
       "      <td>yes</td>\n",
       "    </tr>\n",
       "    <tr>\n",
       "      <th>work_type</th>\n",
       "      <td>self-employed</td>\n",
       "      <td>private</td>\n",
       "      <td>govt_job</td>\n",
       "      <td>self-employed</td>\n",
       "      <td>private</td>\n",
       "    </tr>\n",
       "    <tr>\n",
       "      <th>residence_type</th>\n",
       "      <td>urban</td>\n",
       "      <td>rural</td>\n",
       "      <td>urban</td>\n",
       "      <td>urban</td>\n",
       "      <td>urban</td>\n",
       "    </tr>\n",
       "    <tr>\n",
       "      <th>avg_glucose_level</th>\n",
       "      <td>81.64</td>\n",
       "      <td>204.63</td>\n",
       "      <td>226.28</td>\n",
       "      <td>213.33</td>\n",
       "      <td>91.56</td>\n",
       "    </tr>\n",
       "    <tr>\n",
       "      <th>bmi</th>\n",
       "      <td>32.8</td>\n",
       "      <td>43.4</td>\n",
       "      <td>38.4</td>\n",
       "      <td>31.1</td>\n",
       "      <td>42.2</td>\n",
       "    </tr>\n",
       "    <tr>\n",
       "      <th>smoking_status</th>\n",
       "      <td>unknown</td>\n",
       "      <td>never_smoked</td>\n",
       "      <td>unknown</td>\n",
       "      <td>formerly_smoked</td>\n",
       "      <td>never_smoked</td>\n",
       "    </tr>\n",
       "    <tr>\n",
       "      <th>stroke</th>\n",
       "      <td>0</td>\n",
       "      <td>0</td>\n",
       "      <td>0</td>\n",
       "      <td>0</td>\n",
       "      <td>0</td>\n",
       "    </tr>\n",
       "  </tbody>\n",
       "</table>\n",
       "</div>"
      ],
      "text/plain": [
       "                            818           861       4318             2431  \\\n",
       "gender                    female        female    female             male   \n",
       "age                         59.0          47.0      34.0             80.0   \n",
       "hypertension                   0             0         0                1   \n",
       "heart_disease                  0             0         0                0   \n",
       "ever_married                 yes           yes        no              yes   \n",
       "work_type          self-employed       private  govt_job    self-employed   \n",
       "residence_type             urban         rural     urban            urban   \n",
       "avg_glucose_level          81.64        204.63    226.28           213.33   \n",
       "bmi                         32.8          43.4      38.4             31.1   \n",
       "smoking_status           unknown  never_smoked   unknown  formerly_smoked   \n",
       "stroke                         0             0         0                0   \n",
       "\n",
       "                           752   \n",
       "gender                   female  \n",
       "age                        36.0  \n",
       "hypertension                  1  \n",
       "heart_disease                 0  \n",
       "ever_married                yes  \n",
       "work_type               private  \n",
       "residence_type            urban  \n",
       "avg_glucose_level         91.56  \n",
       "bmi                        42.2  \n",
       "smoking_status     never_smoked  \n",
       "stroke                        0  "
      ]
     },
     "execution_count": 17,
     "metadata": {},
     "output_type": "execute_result"
    }
   ],
   "source": [
    "df_train.head().T"
   ]
  },
  {
   "cell_type": "code",
   "execution_count": 136,
   "id": "cb591207",
   "metadata": {},
   "outputs": [
    {
     "data": {
      "text/plain": [
       "never_smoked       1075\n",
       "unknown             933\n",
       "formerly_smoked     513\n",
       "smokes              467\n",
       "Name: smoking_status, dtype: int64"
      ]
     },
     "execution_count": 136,
     "metadata": {},
     "output_type": "execute_result"
    }
   ],
   "source": [
    "df_train.smoking_status.value_counts()"
   ]
  },
  {
   "cell_type": "code",
   "execution_count": 18,
   "id": "3187b98c",
   "metadata": {},
   "outputs": [],
   "source": [
    "df_train = df_train.reset_index(drop=True)\n",
    "df_test = df_test.reset_index(drop=True)\n",
    "df_val = df_val.reset_index(drop=True)"
   ]
  },
  {
   "cell_type": "code",
   "execution_count": 19,
   "id": "e5d92927",
   "metadata": {},
   "outputs": [],
   "source": [
    "y_train = df_train.stroke.values\n",
    "y_test = df_test.stroke.values\n",
    "y_val = df_val.stroke.values"
   ]
  },
  {
   "cell_type": "code",
   "execution_count": 20,
   "id": "956365f4",
   "metadata": {},
   "outputs": [],
   "source": [
    "del df_train['stroke']\n",
    "del df_val['stroke']\n",
    "del df_test['stroke']"
   ]
  },
  {
   "cell_type": "markdown",
   "id": "178704ee",
   "metadata": {},
   "source": [
    "## Exploratory data analysis\n",
    "- Check missing values\n",
    "- Look at the target variable (churn)\n",
    "- Look at numerical and categorical variables"
   ]
  },
  {
   "cell_type": "code",
   "execution_count": 21,
   "id": "3ea35b23",
   "metadata": {},
   "outputs": [],
   "source": [
    "df_train_full = df_train_full.reset_index(drop=True)"
   ]
  },
  {
   "cell_type": "code",
   "execution_count": 22,
   "id": "a4d9e50e",
   "metadata": {},
   "outputs": [
    {
     "data": {
      "text/plain": [
       "gender               0\n",
       "age                  0\n",
       "hypertension         0\n",
       "heart_disease        0\n",
       "ever_married         0\n",
       "work_type            0\n",
       "residence_type       0\n",
       "avg_glucose_level    0\n",
       "bmi                  0\n",
       "smoking_status       0\n",
       "stroke               0\n",
       "dtype: int64"
      ]
     },
     "execution_count": 22,
     "metadata": {},
     "output_type": "execute_result"
    }
   ],
   "source": [
    "df_train_full.isnull().sum()"
   ]
  },
  {
   "cell_type": "code",
   "execution_count": 23,
   "id": "4ea01870",
   "metadata": {},
   "outputs": [
    {
     "data": {
      "text/plain": [
       "0    3798\n",
       "1     186\n",
       "Name: stroke, dtype: int64"
      ]
     },
     "execution_count": 23,
     "metadata": {},
     "output_type": "execute_result"
    }
   ],
   "source": [
    "df_train_full.stroke.value_counts()"
   ]
  },
  {
   "cell_type": "code",
   "execution_count": 24,
   "id": "af397cb5",
   "metadata": {},
   "outputs": [
    {
     "data": {
      "text/plain": [
       "0    0.953313\n",
       "1    0.046687\n",
       "Name: stroke, dtype: float64"
      ]
     },
     "execution_count": 24,
     "metadata": {},
     "output_type": "execute_result"
    }
   ],
   "source": [
    "df_train_full.stroke.value_counts(normalize=True)"
   ]
  },
  {
   "cell_type": "code",
   "execution_count": 25,
   "id": "5791b0bd",
   "metadata": {},
   "outputs": [
    {
     "data": {
      "text/plain": [
       "0.05"
      ]
     },
     "execution_count": 25,
     "metadata": {},
     "output_type": "execute_result"
    }
   ],
   "source": [
    "global_stroke_rate = df_train_full.stroke.mean()\n",
    "round(global_stroke_rate, 2)"
   ]
  },
  {
   "cell_type": "code",
   "execution_count": 26,
   "id": "354cbda0",
   "metadata": {},
   "outputs": [
    {
     "data": {
      "text/plain": [
       "gender                object\n",
       "age                  float64\n",
       "hypertension           int64\n",
       "heart_disease          int64\n",
       "ever_married          object\n",
       "work_type             object\n",
       "residence_type        object\n",
       "avg_glucose_level    float64\n",
       "bmi                  float64\n",
       "smoking_status        object\n",
       "stroke                 int64\n",
       "dtype: object"
      ]
     },
     "execution_count": 26,
     "metadata": {},
     "output_type": "execute_result"
    }
   ],
   "source": [
    "df_train_full.dtypes"
   ]
  },
  {
   "cell_type": "code",
   "execution_count": 27,
   "id": "dd04f88b",
   "metadata": {},
   "outputs": [
    {
     "data": {
      "text/plain": [
       "['gender', 'ever_married', 'work_type', 'residence_type', 'smoking_status']"
      ]
     },
     "execution_count": 27,
     "metadata": {},
     "output_type": "execute_result"
    }
   ],
   "source": [
    "columns_categorical = ['gender', 'ever_married', 'work_type', 'residence_type', 'smoking_status']\n",
    "columns_categorical"
   ]
  },
  {
   "cell_type": "code",
   "execution_count": 28,
   "id": "80565ce2",
   "metadata": {},
   "outputs": [],
   "source": [
    "columns_numerical = ['age', 'avg_glucose_level', 'bmi']"
   ]
  },
  {
   "cell_type": "code",
   "execution_count": 29,
   "id": "09993878",
   "metadata": {},
   "outputs": [],
   "source": [
    "columns_binary = ['hypertension', 'heart_disease']"
   ]
  },
  {
   "cell_type": "code",
   "execution_count": 30,
   "id": "db22a1ee",
   "metadata": {},
   "outputs": [],
   "source": [
    "for idx in columns_categorical:\n",
    "    df[idx] = (df[idx].apply(lambda x: unidecode.unidecode(x))\n",
    "               .str.lower()\n",
    "               .str.replace(\" \", \"_\"))"
   ]
  },
  {
   "cell_type": "code",
   "execution_count": 31,
   "id": "c7ae4452",
   "metadata": {},
   "outputs": [
    {
     "data": {
      "text/plain": [
       "gender            2\n",
       "ever_married      2\n",
       "work_type         4\n",
       "residence_type    2\n",
       "smoking_status    4\n",
       "hypertension      2\n",
       "heart_disease     2\n",
       "dtype: int64"
      ]
     },
     "execution_count": 31,
     "metadata": {},
     "output_type": "execute_result"
    }
   ],
   "source": [
    "df[columns_categorical + columns_binary].nunique()"
   ]
  },
  {
   "cell_type": "code",
   "execution_count": 32,
   "id": "09b8af2c",
   "metadata": {},
   "outputs": [
    {
     "data": {
      "text/html": [
       "<div>\n",
       "<style scoped>\n",
       "    .dataframe tbody tr th:only-of-type {\n",
       "        vertical-align: middle;\n",
       "    }\n",
       "\n",
       "    .dataframe tbody tr th {\n",
       "        vertical-align: top;\n",
       "    }\n",
       "\n",
       "    .dataframe thead th {\n",
       "        text-align: right;\n",
       "    }\n",
       "</style>\n",
       "<table border=\"1\" class=\"dataframe\">\n",
       "  <thead>\n",
       "    <tr style=\"text-align: right;\">\n",
       "      <th></th>\n",
       "      <th>count</th>\n",
       "      <th>mean</th>\n",
       "      <th>std</th>\n",
       "      <th>min</th>\n",
       "      <th>25%</th>\n",
       "      <th>50%</th>\n",
       "      <th>75%</th>\n",
       "      <th>max</th>\n",
       "    </tr>\n",
       "  </thead>\n",
       "  <tbody>\n",
       "    <tr>\n",
       "      <th>age</th>\n",
       "      <td>4981.0</td>\n",
       "      <td>43.419859</td>\n",
       "      <td>22.662755</td>\n",
       "      <td>0.08</td>\n",
       "      <td>25.00</td>\n",
       "      <td>45.00</td>\n",
       "      <td>61.00</td>\n",
       "      <td>82.00</td>\n",
       "    </tr>\n",
       "    <tr>\n",
       "      <th>hypertension</th>\n",
       "      <td>4981.0</td>\n",
       "      <td>0.096165</td>\n",
       "      <td>0.294848</td>\n",
       "      <td>0.00</td>\n",
       "      <td>0.00</td>\n",
       "      <td>0.00</td>\n",
       "      <td>0.00</td>\n",
       "      <td>1.00</td>\n",
       "    </tr>\n",
       "    <tr>\n",
       "      <th>heart_disease</th>\n",
       "      <td>4981.0</td>\n",
       "      <td>0.055210</td>\n",
       "      <td>0.228412</td>\n",
       "      <td>0.00</td>\n",
       "      <td>0.00</td>\n",
       "      <td>0.00</td>\n",
       "      <td>0.00</td>\n",
       "      <td>1.00</td>\n",
       "    </tr>\n",
       "    <tr>\n",
       "      <th>avg_glucose_level</th>\n",
       "      <td>4981.0</td>\n",
       "      <td>105.943562</td>\n",
       "      <td>45.075373</td>\n",
       "      <td>55.12</td>\n",
       "      <td>77.23</td>\n",
       "      <td>91.85</td>\n",
       "      <td>113.86</td>\n",
       "      <td>271.74</td>\n",
       "    </tr>\n",
       "    <tr>\n",
       "      <th>bmi</th>\n",
       "      <td>4981.0</td>\n",
       "      <td>28.498173</td>\n",
       "      <td>6.790464</td>\n",
       "      <td>14.00</td>\n",
       "      <td>23.70</td>\n",
       "      <td>28.10</td>\n",
       "      <td>32.60</td>\n",
       "      <td>48.90</td>\n",
       "    </tr>\n",
       "    <tr>\n",
       "      <th>stroke</th>\n",
       "      <td>4981.0</td>\n",
       "      <td>0.049789</td>\n",
       "      <td>0.217531</td>\n",
       "      <td>0.00</td>\n",
       "      <td>0.00</td>\n",
       "      <td>0.00</td>\n",
       "      <td>0.00</td>\n",
       "      <td>1.00</td>\n",
       "    </tr>\n",
       "  </tbody>\n",
       "</table>\n",
       "</div>"
      ],
      "text/plain": [
       "                    count        mean        std    min    25%    50%     75%  \\\n",
       "age                4981.0   43.419859  22.662755   0.08  25.00  45.00   61.00   \n",
       "hypertension       4981.0    0.096165   0.294848   0.00   0.00   0.00    0.00   \n",
       "heart_disease      4981.0    0.055210   0.228412   0.00   0.00   0.00    0.00   \n",
       "avg_glucose_level  4981.0  105.943562  45.075373  55.12  77.23  91.85  113.86   \n",
       "bmi                4981.0   28.498173   6.790464  14.00  23.70  28.10   32.60   \n",
       "stroke             4981.0    0.049789   0.217531   0.00   0.00   0.00    0.00   \n",
       "\n",
       "                      max  \n",
       "age                 82.00  \n",
       "hypertension         1.00  \n",
       "heart_disease        1.00  \n",
       "avg_glucose_level  271.74  \n",
       "bmi                 48.90  \n",
       "stroke               1.00  "
      ]
     },
     "execution_count": 32,
     "metadata": {},
     "output_type": "execute_result"
    }
   ],
   "source": [
    "df.describe().T"
   ]
  },
  {
   "cell_type": "code",
   "execution_count": 33,
   "id": "6544b45c",
   "metadata": {},
   "outputs": [],
   "source": [
    "# df.isnull().sum()"
   ]
  },
  {
   "cell_type": "code",
   "execution_count": 34,
   "id": "e6c9c006",
   "metadata": {},
   "outputs": [],
   "source": [
    "df['ever_married'] = [ 1 if status =='Yes' else 0 \n",
    "                      for status in df['ever_married'] ]"
   ]
  },
  {
   "cell_type": "code",
   "execution_count": 35,
   "id": "1611e0b3",
   "metadata": {},
   "outputs": [],
   "source": [
    "df['gender'] = [1 if gender == 'Female' else 0 \n",
    "                for gender in df['gender']]"
   ]
  },
  {
   "cell_type": "code",
   "execution_count": 36,
   "id": "8d18f628",
   "metadata": {},
   "outputs": [],
   "source": [
    "# df.isnull().sum()"
   ]
  },
  {
   "cell_type": "code",
   "execution_count": 37,
   "id": "54e638ac",
   "metadata": {},
   "outputs": [],
   "source": [
    "# df.isnull().any()"
   ]
  },
  {
   "cell_type": "code",
   "execution_count": 38,
   "id": "4a16e67b",
   "metadata": {},
   "outputs": [],
   "source": [
    "# for i in df.columns:\n",
    "#     print(df[i].unique())"
   ]
  },
  {
   "cell_type": "code",
   "execution_count": 39,
   "id": "2bceb5ee",
   "metadata": {},
   "outputs": [
    {
     "data": {
      "image/png": "[encoded data removed]",
      "text/plain": [
       "<Figure size 640x480 with 1 Axes>"
      ]
     },
     "metadata": {},
     "output_type": "display_data"
    },
    {
     "data": {
      "image/png": "[encoded data removed]",
      "text/plain": [
       "<Figure size 640x480 with 1 Axes>"
      ]
     },
     "metadata": {},
     "output_type": "display_data"
    },
    {
     "data": {
      "image/png": "[encoded data removed]",
      "text/plain": [
       "<Figure size 640x480 with 1 Axes>"
      ]
     },
     "metadata": {},
     "output_type": "display_data"
    },
    {
     "data": {
      "image/png": "[encoded data removed]",
      "text/plain": [
       "<Figure size 640x480 with 1 Axes>"
      ]
     },
     "metadata": {},
     "output_type": "display_data"
    },
    {
     "data": {
      "image/png": "[encoded data removed]",
      "text/plain": [
       "<Figure size 640x480 with 1 Axes>"
      ]
     },
     "metadata": {},
     "output_type": "display_data"
    },
    {
     "data": {
      "image/png": "[encoded data removed]",
      "text/plain": [
       "<Figure size 640x480 with 1 Axes>"
      ]
     },
     "metadata": {},
     "output_type": "display_data"
    },
    {
     "data": {
      "image/png": "[encoded data removed]",
      "text/plain": [
       "<Figure size 640x480 with 1 Axes>"
      ]
     },
     "metadata": {},
     "output_type": "display_data"
    },
    {
     "data": {
      "image/png": "[encoded data removed]",
      "text/plain": [
       "<Figure size 640x480 with 1 Axes>"
      ]
     },
     "metadata": {},
     "output_type": "display_data"
    },
    {
     "data": {
      "image/png": "[encoded data removed]",
      "text/plain": [
       "<Figure size 640x480 with 1 Axes>"
      ]
     },
     "metadata": {},
     "output_type": "display_data"
    },
    {
     "data": {
      "image/png": "[encoded data removed]",
      "text/plain": [
       "<Figure size 640x480 with 1 Axes>"
      ]
     },
     "metadata": {},
     "output_type": "display_data"
    },
    {
     "data": {
      "image/png": "[encoded data removed]",
      "text/plain": [
       "<Figure size 640x480 with 1 Axes>"
      ]
     },
     "metadata": {},
     "output_type": "display_data"
    }
   ],
   "source": [
    "for idx in df.columns:\n",
    "    df_plot = df.copy()\n",
    "    df_plot = (df.groupby(idx)[idx].count()\n",
    "                .to_frame()\n",
    "                .rename(columns={idx: \"count\"})\n",
    "                .reset_index())\n",
    "    sns.barplot(x=df_plot[idx], y=df_plot[\"count\"])\n",
    "    plt.title(f\"Patients by {idx}\")\n",
    "    plt.tick_params(axis='x', labelsize=\"small\", labelrotation=90)\n",
    "    plt.locator_params(axis='x', nbins=25)\n",
    "    plt.show()"
   ]
  },
  {
   "cell_type": "markdown",
   "id": "38846b13",
   "metadata": {},
   "source": [
    "## Feature Importance: Stroke rate and risk ratio\n",
    "Feature importance analysis (part of EDA) - identifying which features affect our target variable\n",
    "- Stroke rate\n",
    "- Risk ratio\n",
    "- Mutual information"
   ]
  },
  {
   "cell_type": "code",
   "execution_count": 40,
   "id": "416884af",
   "metadata": {},
   "outputs": [
    {
     "name": "stdout",
     "output_type": "stream",
     "text": [
      "0.043722943722943726 0.05077658303464755\n"
     ]
    }
   ],
   "source": [
    "stroke_female = df_train_full[df_train_full.gender == 'female'].stroke.mean()\n",
    "stroke_male = df_train_full[df_train_full.gender == 'male'].stroke.mean()\n",
    "\n",
    "print(stroke_female, stroke_male)"
   ]
  },
  {
   "cell_type": "code",
   "execution_count": 41,
   "id": "e3b5ec0f",
   "metadata": {},
   "outputs": [
    {
     "data": {
      "text/plain": [
       "yes    2636\n",
       "no     1348\n",
       "Name: ever_married, dtype: int64"
      ]
     },
     "execution_count": 41,
     "metadata": {},
     "output_type": "execute_result"
    }
   ],
   "source": [
    "df_train_full.ever_married.value_counts()"
   ]
  },
  {
   "cell_type": "code",
   "execution_count": 42,
   "id": "ec344a44",
   "metadata": {},
   "outputs": [
    {
     "name": "stdout",
     "output_type": "stream",
     "text": [
      "0.0625948406676783 0.015578635014836795\n"
     ]
    }
   ],
   "source": [
    "stroke_partner = df_train_full[df_train_full.ever_married == 'yes'].stroke.mean()\n",
    "stroke_no_partner = df_train_full[df_train_full.ever_married == 'no'].stroke.mean()\n",
    "\n",
    "print(stroke_partner, stroke_no_partner)"
   ]
  },
  {
   "cell_type": "code",
   "execution_count": 43,
   "id": "f7711f62",
   "metadata": {},
   "outputs": [
    {
     "name": "stdout",
     "output_type": "stream",
     "text": [
      "-0.004089836046695744\n",
      "0.002963803265008079\n",
      "-0.015908093679726495\n",
      "0.03110811197311501\n",
      "1.3407411033334966\n",
      "0.33368431128553655\n"
     ]
    }
   ],
   "source": [
    "print(global_stroke_rate - stroke_male)\n",
    "print(global_stroke_rate - stroke_female)\n",
    "print(global_stroke_rate - stroke_partner)\n",
    "print(global_stroke_rate - stroke_no_partner)\n",
    "print(stroke_partner / global_stroke_rate)\n",
    "print(stroke_no_partner / global_stroke_rate)"
   ]
  },
  {
   "cell_type": "markdown",
   "id": "6b297145",
   "metadata": {},
   "source": [
    "```\n",
    "SELECT\n",
    "    gender,\n",
    "    AVG(stroke),\n",
    "    AVG(stroke) - global_stroke_rate as diff,\n",
    "    AVG(stroke) / global_stroke_rate as risk\n",
    "FROM\n",
    "    data\n",
    "GROUP BY\n",
    "    gender;\n",
    "```"
   ]
  },
  {
   "cell_type": "code",
   "execution_count": 44,
   "id": "1db95e31",
   "metadata": {},
   "outputs": [
    {
     "data": {
      "text/plain": [
       "gender\n",
       "female    0.043723\n",
       "male      0.050777\n",
       "Name: stroke, dtype: float64"
      ]
     },
     "execution_count": 44,
     "metadata": {},
     "output_type": "execute_result"
    }
   ],
   "source": [
    "df_train_full.groupby('gender').stroke.mean()"
   ]
  },
  {
   "cell_type": "code",
   "execution_count": 45,
   "id": "30463b01",
   "metadata": {},
   "outputs": [
    {
     "data": {
      "text/html": [
       "<div>\n",
       "<style scoped>\n",
       "    .dataframe tbody tr th:only-of-type {\n",
       "        vertical-align: middle;\n",
       "    }\n",
       "\n",
       "    .dataframe tbody tr th {\n",
       "        vertical-align: top;\n",
       "    }\n",
       "\n",
       "    .dataframe thead th {\n",
       "        text-align: right;\n",
       "    }\n",
       "</style>\n",
       "<table border=\"1\" class=\"dataframe\">\n",
       "  <thead>\n",
       "    <tr style=\"text-align: right;\">\n",
       "      <th></th>\n",
       "      <th>mean</th>\n",
       "      <th>count</th>\n",
       "    </tr>\n",
       "    <tr>\n",
       "      <th>gender</th>\n",
       "      <th></th>\n",
       "      <th></th>\n",
       "    </tr>\n",
       "  </thead>\n",
       "  <tbody>\n",
       "    <tr>\n",
       "      <th>female</th>\n",
       "      <td>0.043723</td>\n",
       "      <td>2310</td>\n",
       "    </tr>\n",
       "    <tr>\n",
       "      <th>male</th>\n",
       "      <td>0.050777</td>\n",
       "      <td>1674</td>\n",
       "    </tr>\n",
       "  </tbody>\n",
       "</table>\n",
       "</div>"
      ],
      "text/plain": [
       "            mean  count\n",
       "gender                 \n",
       "female  0.043723   2310\n",
       "male    0.050777   1674"
      ]
     },
     "execution_count": 45,
     "metadata": {},
     "output_type": "execute_result"
    }
   ],
   "source": [
    "df_train_full.groupby('gender').stroke.agg(['mean', 'count'])"
   ]
  },
  {
   "cell_type": "code",
   "execution_count": 46,
   "id": "ba754472",
   "metadata": {},
   "outputs": [
    {
     "data": {
      "text/html": [
       "<div>\n",
       "<style scoped>\n",
       "    .dataframe tbody tr th:only-of-type {\n",
       "        vertical-align: middle;\n",
       "    }\n",
       "\n",
       "    .dataframe tbody tr th {\n",
       "        vertical-align: top;\n",
       "    }\n",
       "\n",
       "    .dataframe thead th {\n",
       "        text-align: right;\n",
       "    }\n",
       "</style>\n",
       "<table border=\"1\" class=\"dataframe\">\n",
       "  <thead>\n",
       "    <tr style=\"text-align: right;\">\n",
       "      <th></th>\n",
       "      <th>mean</th>\n",
       "      <th>count</th>\n",
       "      <th>diff</th>\n",
       "      <th>ratio</th>\n",
       "    </tr>\n",
       "    <tr>\n",
       "      <th>gender</th>\n",
       "      <th></th>\n",
       "      <th></th>\n",
       "      <th></th>\n",
       "      <th></th>\n",
       "    </tr>\n",
       "  </thead>\n",
       "  <tbody>\n",
       "    <tr>\n",
       "      <th>female</th>\n",
       "      <td>0.043723</td>\n",
       "      <td>2310</td>\n",
       "      <td>-0.002964</td>\n",
       "      <td>0.936517</td>\n",
       "    </tr>\n",
       "    <tr>\n",
       "      <th>male</th>\n",
       "      <td>0.050777</td>\n",
       "      <td>1674</td>\n",
       "      <td>0.004090</td>\n",
       "      <td>1.087602</td>\n",
       "    </tr>\n",
       "  </tbody>\n",
       "</table>\n",
       "</div>"
      ],
      "text/plain": [
       "            mean  count      diff     ratio\n",
       "gender                                     \n",
       "female  0.043723   2310 -0.002964  0.936517\n",
       "male    0.050777   1674  0.004090  1.087602"
      ]
     },
     "execution_count": 46,
     "metadata": {},
     "output_type": "execute_result"
    }
   ],
   "source": [
    "df_group = df_train_full.groupby('gender').stroke.agg(['mean', 'count'])\n",
    "df_group['diff'] = df_group['mean'] - global_stroke_rate\n",
    "df_group['ratio'] = df_group['mean'] / global_stroke_rate\n",
    "df_group"
   ]
  },
  {
   "cell_type": "code",
   "execution_count": 47,
   "id": "677ff4e6",
   "metadata": {},
   "outputs": [],
   "source": [
    "from IPython.display import display"
   ]
  },
  {
   "cell_type": "code",
   "execution_count": 48,
   "id": "24507658",
   "metadata": {},
   "outputs": [
    {
     "data": {
      "text/html": [
       "<div>\n",
       "<style scoped>\n",
       "    .dataframe tbody tr th:only-of-type {\n",
       "        vertical-align: middle;\n",
       "    }\n",
       "\n",
       "    .dataframe tbody tr th {\n",
       "        vertical-align: top;\n",
       "    }\n",
       "\n",
       "    .dataframe thead th {\n",
       "        text-align: right;\n",
       "    }\n",
       "</style>\n",
       "<table border=\"1\" class=\"dataframe\">\n",
       "  <thead>\n",
       "    <tr style=\"text-align: right;\">\n",
       "      <th></th>\n",
       "      <th>mean</th>\n",
       "      <th>count</th>\n",
       "      <th>diff</th>\n",
       "      <th>ratio</th>\n",
       "    </tr>\n",
       "    <tr>\n",
       "      <th>gender</th>\n",
       "      <th></th>\n",
       "      <th></th>\n",
       "      <th></th>\n",
       "      <th></th>\n",
       "    </tr>\n",
       "  </thead>\n",
       "  <tbody>\n",
       "    <tr>\n",
       "      <th>female</th>\n",
       "      <td>0.043723</td>\n",
       "      <td>2310</td>\n",
       "      <td>-0.002964</td>\n",
       "      <td>0.936517</td>\n",
       "    </tr>\n",
       "    <tr>\n",
       "      <th>male</th>\n",
       "      <td>0.050777</td>\n",
       "      <td>1674</td>\n",
       "      <td>0.004090</td>\n",
       "      <td>1.087602</td>\n",
       "    </tr>\n",
       "  </tbody>\n",
       "</table>\n",
       "</div>"
      ],
      "text/plain": [
       "            mean  count      diff     ratio\n",
       "gender                                     \n",
       "female  0.043723   2310 -0.002964  0.936517\n",
       "male    0.050777   1674  0.004090  1.087602"
      ]
     },
     "metadata": {},
     "output_type": "display_data"
    },
    {
     "data": {
      "text/html": [
       "<div>\n",
       "<style scoped>\n",
       "    .dataframe tbody tr th:only-of-type {\n",
       "        vertical-align: middle;\n",
       "    }\n",
       "\n",
       "    .dataframe tbody tr th {\n",
       "        vertical-align: top;\n",
       "    }\n",
       "\n",
       "    .dataframe thead th {\n",
       "        text-align: right;\n",
       "    }\n",
       "</style>\n",
       "<table border=\"1\" class=\"dataframe\">\n",
       "  <thead>\n",
       "    <tr style=\"text-align: right;\">\n",
       "      <th></th>\n",
       "      <th>mean</th>\n",
       "      <th>count</th>\n",
       "      <th>diff</th>\n",
       "      <th>ratio</th>\n",
       "    </tr>\n",
       "    <tr>\n",
       "      <th>ever_married</th>\n",
       "      <th></th>\n",
       "      <th></th>\n",
       "      <th></th>\n",
       "      <th></th>\n",
       "    </tr>\n",
       "  </thead>\n",
       "  <tbody>\n",
       "    <tr>\n",
       "      <th>no</th>\n",
       "      <td>0.015579</td>\n",
       "      <td>1348</td>\n",
       "      <td>-0.031108</td>\n",
       "      <td>0.333684</td>\n",
       "    </tr>\n",
       "    <tr>\n",
       "      <th>yes</th>\n",
       "      <td>0.062595</td>\n",
       "      <td>2636</td>\n",
       "      <td>0.015908</td>\n",
       "      <td>1.340741</td>\n",
       "    </tr>\n",
       "  </tbody>\n",
       "</table>\n",
       "</div>"
      ],
      "text/plain": [
       "                  mean  count      diff     ratio\n",
       "ever_married                                     \n",
       "no            0.015579   1348 -0.031108  0.333684\n",
       "yes           0.062595   2636  0.015908  1.340741"
      ]
     },
     "metadata": {},
     "output_type": "display_data"
    },
    {
     "data": {
      "text/html": [
       "<div>\n",
       "<style scoped>\n",
       "    .dataframe tbody tr th:only-of-type {\n",
       "        vertical-align: middle;\n",
       "    }\n",
       "\n",
       "    .dataframe tbody tr th {\n",
       "        vertical-align: top;\n",
       "    }\n",
       "\n",
       "    .dataframe thead th {\n",
       "        text-align: right;\n",
       "    }\n",
       "</style>\n",
       "<table border=\"1\" class=\"dataframe\">\n",
       "  <thead>\n",
       "    <tr style=\"text-align: right;\">\n",
       "      <th></th>\n",
       "      <th>mean</th>\n",
       "      <th>count</th>\n",
       "      <th>diff</th>\n",
       "      <th>ratio</th>\n",
       "    </tr>\n",
       "    <tr>\n",
       "      <th>work_type</th>\n",
       "      <th></th>\n",
       "      <th></th>\n",
       "      <th></th>\n",
       "      <th></th>\n",
       "    </tr>\n",
       "  </thead>\n",
       "  <tbody>\n",
       "    <tr>\n",
       "      <th>children</th>\n",
       "      <td>0.003704</td>\n",
       "      <td>540</td>\n",
       "      <td>-0.042983</td>\n",
       "      <td>0.079331</td>\n",
       "    </tr>\n",
       "    <tr>\n",
       "      <th>govt_job</th>\n",
       "      <td>0.048638</td>\n",
       "      <td>514</td>\n",
       "      <td>0.001951</td>\n",
       "      <td>1.041797</td>\n",
       "    </tr>\n",
       "    <tr>\n",
       "      <th>private</th>\n",
       "      <td>0.050611</td>\n",
       "      <td>2292</td>\n",
       "      <td>0.003924</td>\n",
       "      <td>1.084051</td>\n",
       "    </tr>\n",
       "    <tr>\n",
       "      <th>self-employed</th>\n",
       "      <td>0.067398</td>\n",
       "      <td>638</td>\n",
       "      <td>0.020711</td>\n",
       "      <td>1.443624</td>\n",
       "    </tr>\n",
       "  </tbody>\n",
       "</table>\n",
       "</div>"
      ],
      "text/plain": [
       "                   mean  count      diff     ratio\n",
       "work_type                                         \n",
       "children       0.003704    540 -0.042983  0.079331\n",
       "govt_job       0.048638    514  0.001951  1.041797\n",
       "private        0.050611   2292  0.003924  1.084051\n",
       "self-employed  0.067398    638  0.020711  1.443624"
      ]
     },
     "metadata": {},
     "output_type": "display_data"
    },
    {
     "data": {
      "text/html": [
       "<div>\n",
       "<style scoped>\n",
       "    .dataframe tbody tr th:only-of-type {\n",
       "        vertical-align: middle;\n",
       "    }\n",
       "\n",
       "    .dataframe tbody tr th {\n",
       "        vertical-align: top;\n",
       "    }\n",
       "\n",
       "    .dataframe thead th {\n",
       "        text-align: right;\n",
       "    }\n",
       "</style>\n",
       "<table border=\"1\" class=\"dataframe\">\n",
       "  <thead>\n",
       "    <tr style=\"text-align: right;\">\n",
       "      <th></th>\n",
       "      <th>mean</th>\n",
       "      <th>count</th>\n",
       "      <th>diff</th>\n",
       "      <th>ratio</th>\n",
       "    </tr>\n",
       "    <tr>\n",
       "      <th>residence_type</th>\n",
       "      <th></th>\n",
       "      <th></th>\n",
       "      <th></th>\n",
       "      <th></th>\n",
       "    </tr>\n",
       "  </thead>\n",
       "  <tbody>\n",
       "    <tr>\n",
       "      <th>rural</th>\n",
       "      <td>0.041117</td>\n",
       "      <td>1970</td>\n",
       "      <td>-0.005570</td>\n",
       "      <td>0.880694</td>\n",
       "    </tr>\n",
       "    <tr>\n",
       "      <th>urban</th>\n",
       "      <td>0.052135</td>\n",
       "      <td>2014</td>\n",
       "      <td>0.005448</td>\n",
       "      <td>1.116699</td>\n",
       "    </tr>\n",
       "  </tbody>\n",
       "</table>\n",
       "</div>"
      ],
      "text/plain": [
       "                    mean  count      diff     ratio\n",
       "residence_type                                     \n",
       "rural           0.041117   1970 -0.005570  0.880694\n",
       "urban           0.052135   2014  0.005448  1.116699"
      ]
     },
     "metadata": {},
     "output_type": "display_data"
    },
    {
     "data": {
      "text/html": [
       "<div>\n",
       "<style scoped>\n",
       "    .dataframe tbody tr th:only-of-type {\n",
       "        vertical-align: middle;\n",
       "    }\n",
       "\n",
       "    .dataframe tbody tr th {\n",
       "        vertical-align: top;\n",
       "    }\n",
       "\n",
       "    .dataframe thead th {\n",
       "        text-align: right;\n",
       "    }\n",
       "</style>\n",
       "<table border=\"1\" class=\"dataframe\">\n",
       "  <thead>\n",
       "    <tr style=\"text-align: right;\">\n",
       "      <th></th>\n",
       "      <th>mean</th>\n",
       "      <th>count</th>\n",
       "      <th>diff</th>\n",
       "      <th>ratio</th>\n",
       "    </tr>\n",
       "    <tr>\n",
       "      <th>smoking_status</th>\n",
       "      <th></th>\n",
       "      <th></th>\n",
       "      <th></th>\n",
       "      <th></th>\n",
       "    </tr>\n",
       "  </thead>\n",
       "  <tbody>\n",
       "    <tr>\n",
       "      <th>formerly_smoked</th>\n",
       "      <td>0.075177</td>\n",
       "      <td>705</td>\n",
       "      <td>0.028491</td>\n",
       "      <td>1.610249</td>\n",
       "    </tr>\n",
       "    <tr>\n",
       "      <th>never_smoked</th>\n",
       "      <td>0.042120</td>\n",
       "      <td>1472</td>\n",
       "      <td>-0.004567</td>\n",
       "      <td>0.902174</td>\n",
       "    </tr>\n",
       "    <tr>\n",
       "      <th>smokes</th>\n",
       "      <td>0.057471</td>\n",
       "      <td>609</td>\n",
       "      <td>0.010785</td>\n",
       "      <td>1.230997</td>\n",
       "    </tr>\n",
       "    <tr>\n",
       "      <th>unknown</th>\n",
       "      <td>0.030050</td>\n",
       "      <td>1198</td>\n",
       "      <td>-0.016637</td>\n",
       "      <td>0.643653</td>\n",
       "    </tr>\n",
       "  </tbody>\n",
       "</table>\n",
       "</div>"
      ],
      "text/plain": [
       "                     mean  count      diff     ratio\n",
       "smoking_status                                      \n",
       "formerly_smoked  0.075177    705  0.028491  1.610249\n",
       "never_smoked     0.042120   1472 -0.004567  0.902174\n",
       "smokes           0.057471    609  0.010785  1.230997\n",
       "unknown          0.030050   1198 -0.016637  0.643653"
      ]
     },
     "metadata": {},
     "output_type": "display_data"
    },
    {
     "data": {
      "text/html": [
       "<div>\n",
       "<style scoped>\n",
       "    .dataframe tbody tr th:only-of-type {\n",
       "        vertical-align: middle;\n",
       "    }\n",
       "\n",
       "    .dataframe tbody tr th {\n",
       "        vertical-align: top;\n",
       "    }\n",
       "\n",
       "    .dataframe thead th {\n",
       "        text-align: right;\n",
       "    }\n",
       "</style>\n",
       "<table border=\"1\" class=\"dataframe\">\n",
       "  <thead>\n",
       "    <tr style=\"text-align: right;\">\n",
       "      <th></th>\n",
       "      <th>mean</th>\n",
       "      <th>count</th>\n",
       "      <th>diff</th>\n",
       "      <th>ratio</th>\n",
       "    </tr>\n",
       "    <tr>\n",
       "      <th>hypertension</th>\n",
       "      <th></th>\n",
       "      <th></th>\n",
       "      <th></th>\n",
       "      <th></th>\n",
       "    </tr>\n",
       "  </thead>\n",
       "  <tbody>\n",
       "    <tr>\n",
       "      <th>0</th>\n",
       "      <td>0.038921</td>\n",
       "      <td>3597</td>\n",
       "      <td>-0.007765</td>\n",
       "      <td>0.83367</td>\n",
       "    </tr>\n",
       "    <tr>\n",
       "      <th>1</th>\n",
       "      <td>0.118863</td>\n",
       "      <td>387</td>\n",
       "      <td>0.072176</td>\n",
       "      <td>2.54597</td>\n",
       "    </tr>\n",
       "  </tbody>\n",
       "</table>\n",
       "</div>"
      ],
      "text/plain": [
       "                  mean  count      diff    ratio\n",
       "hypertension                                    \n",
       "0             0.038921   3597 -0.007765  0.83367\n",
       "1             0.118863    387  0.072176  2.54597"
      ]
     },
     "metadata": {},
     "output_type": "display_data"
    },
    {
     "data": {
      "text/html": [
       "<div>\n",
       "<style scoped>\n",
       "    .dataframe tbody tr th:only-of-type {\n",
       "        vertical-align: middle;\n",
       "    }\n",
       "\n",
       "    .dataframe tbody tr th {\n",
       "        vertical-align: top;\n",
       "    }\n",
       "\n",
       "    .dataframe thead th {\n",
       "        text-align: right;\n",
       "    }\n",
       "</style>\n",
       "<table border=\"1\" class=\"dataframe\">\n",
       "  <thead>\n",
       "    <tr style=\"text-align: right;\">\n",
       "      <th></th>\n",
       "      <th>mean</th>\n",
       "      <th>count</th>\n",
       "      <th>diff</th>\n",
       "      <th>ratio</th>\n",
       "    </tr>\n",
       "    <tr>\n",
       "      <th>heart_disease</th>\n",
       "      <th></th>\n",
       "      <th></th>\n",
       "      <th></th>\n",
       "      <th></th>\n",
       "    </tr>\n",
       "  </thead>\n",
       "  <tbody>\n",
       "    <tr>\n",
       "      <th>0</th>\n",
       "      <td>0.039628</td>\n",
       "      <td>3760</td>\n",
       "      <td>-0.007059</td>\n",
       "      <td>0.848799</td>\n",
       "    </tr>\n",
       "    <tr>\n",
       "      <th>1</th>\n",
       "      <td>0.165179</td>\n",
       "      <td>224</td>\n",
       "      <td>0.118492</td>\n",
       "      <td>3.538018</td>\n",
       "    </tr>\n",
       "  </tbody>\n",
       "</table>\n",
       "</div>"
      ],
      "text/plain": [
       "                   mean  count      diff     ratio\n",
       "heart_disease                                     \n",
       "0              0.039628   3760 -0.007059  0.848799\n",
       "1              0.165179    224  0.118492  3.538018"
      ]
     },
     "metadata": {},
     "output_type": "display_data"
    }
   ],
   "source": [
    "for col in columns_categorical + columns_binary:\n",
    "    df_group = df_train_full.groupby(col).stroke.agg(['mean', 'count'])\n",
    "    df_group['diff'] = df_group['mean'] - global_stroke_rate\n",
    "    df_group['ratio'] = df_group['mean'] / global_stroke_rate\n",
    "    display(df_group)"
   ]
  },
  {
   "cell_type": "markdown",
   "id": "ec4fef04",
   "metadata": {},
   "source": [
    "## Feature importance: Mutual information\n",
    "\n",
    "Mutual information - concept from information theory, \n",
    "it tells us how much we can learn about one variable if we know the value of another\n",
    "- https://en.wikipedia.org/wiki/Mutual_information"
   ]
  },
  {
   "cell_type": "code",
   "execution_count": 49,
   "id": "401ffb23",
   "metadata": {},
   "outputs": [
    {
     "name": "stdout",
     "output_type": "stream",
     "text": [
      "0.00013526299761548732\n",
      "0.006616881865849265\n",
      "0.004698191256814449\n",
      "0.002712788069945904\n",
      "0.00034196668651678697\n",
      "0.005468044754317574\n"
     ]
    }
   ],
   "source": [
    "print(mutual_info_score(df_train_full.gender, df_train_full.stroke))\n",
    "print(mutual_info_score(df_train_full.ever_married, df_train_full.stroke))\n",
    "print(mutual_info_score(df_train_full.hypertension, df_train_full.stroke))\n",
    "print(mutual_info_score(df_train_full.smoking_status, df_train_full.stroke))\n",
    "print(mutual_info_score(df_train_full.residence_type, df_train_full.stroke))\n",
    "print(mutual_info_score(df_train_full.work_type, df_train_full.stroke))"
   ]
  },
  {
   "cell_type": "code",
   "execution_count": null,
   "id": "6d755093",
   "metadata": {},
   "outputs": [],
   "source": []
  },
  {
   "cell_type": "code",
   "execution_count": 50,
   "id": "78a4968e",
   "metadata": {},
   "outputs": [],
   "source": [
    "def mutual_info_stroke_score(series):\n",
    "    return mutual_info_score(series, df_train_full.stroke)"
   ]
  },
  {
   "cell_type": "code",
   "execution_count": 51,
   "id": "dcde06fa",
   "metadata": {},
   "outputs": [
    {
     "data": {
      "text/html": [
       "<div>\n",
       "<style scoped>\n",
       "    .dataframe tbody tr th:only-of-type {\n",
       "        vertical-align: middle;\n",
       "    }\n",
       "\n",
       "    .dataframe tbody tr th {\n",
       "        vertical-align: top;\n",
       "    }\n",
       "\n",
       "    .dataframe thead th {\n",
       "        text-align: right;\n",
       "    }\n",
       "</style>\n",
       "<table border=\"1\" class=\"dataframe\">\n",
       "  <thead>\n",
       "    <tr style=\"text-align: right;\">\n",
       "      <th></th>\n",
       "      <th>MI</th>\n",
       "    </tr>\n",
       "  </thead>\n",
       "  <tbody>\n",
       "    <tr>\n",
       "      <th>ever_married</th>\n",
       "      <td>0.006617</td>\n",
       "    </tr>\n",
       "    <tr>\n",
       "      <th>heart_disease</th>\n",
       "      <td>0.006061</td>\n",
       "    </tr>\n",
       "    <tr>\n",
       "      <th>work_type</th>\n",
       "      <td>0.005468</td>\n",
       "    </tr>\n",
       "    <tr>\n",
       "      <th>hypertension</th>\n",
       "      <td>0.004698</td>\n",
       "    </tr>\n",
       "    <tr>\n",
       "      <th>smoking_status</th>\n",
       "      <td>0.002713</td>\n",
       "    </tr>\n",
       "    <tr>\n",
       "      <th>residence_type</th>\n",
       "      <td>0.000342</td>\n",
       "    </tr>\n",
       "    <tr>\n",
       "      <th>gender</th>\n",
       "      <td>0.000135</td>\n",
       "    </tr>\n",
       "  </tbody>\n",
       "</table>\n",
       "</div>"
      ],
      "text/plain": [
       "                      MI\n",
       "ever_married    0.006617\n",
       "heart_disease   0.006061\n",
       "work_type       0.005468\n",
       "hypertension    0.004698\n",
       "smoking_status  0.002713\n",
       "residence_type  0.000342\n",
       "gender          0.000135"
      ]
     },
     "execution_count": 51,
     "metadata": {},
     "output_type": "execute_result"
    }
   ],
   "source": [
    "mi = df_train_full[columns_categorical + columns_binary].apply(mutual_info_stroke_score)\n",
    "mi.sort_values(ascending=False).to_frame(name='MI')"
   ]
  },
  {
   "cell_type": "markdown",
   "id": "eb8aeacc",
   "metadata": {},
   "source": [
    "## Feature importance: Correlation\n",
    "How about numerical columns?\n",
    "- Correlation coefficient"
   ]
  },
  {
   "cell_type": "code",
   "execution_count": 52,
   "id": "eddb54a4",
   "metadata": {},
   "outputs": [
    {
     "data": {
      "text/plain": [
       "age                  0.229824\n",
       "avg_glucose_level    0.125625\n",
       "bmi                  0.059971\n",
       "dtype: float64"
      ]
     },
     "execution_count": 52,
     "metadata": {},
     "output_type": "execute_result"
    }
   ],
   "source": [
    "df_train_full[columns_numerical].corrwith(df_train_full.stroke)"
   ]
  },
  {
   "cell_type": "code",
   "execution_count": 53,
   "id": "970021f2",
   "metadata": {},
   "outputs": [
    {
     "data": {
      "text/plain": [
       "count    3984.000000\n",
       "mean       43.528574\n",
       "std        22.682902\n",
       "min         0.080000\n",
       "25%        26.000000\n",
       "50%        45.000000\n",
       "75%        61.000000\n",
       "max        82.000000\n",
       "Name: age, dtype: float64"
      ]
     },
     "execution_count": 53,
     "metadata": {},
     "output_type": "execute_result"
    }
   ],
   "source": [
    "df_train_full.age.describe()"
   ]
  },
  {
   "cell_type": "code",
   "execution_count": 54,
   "id": "5026de05",
   "metadata": {},
   "outputs": [
    {
     "name": "stdout",
     "output_type": "stream",
     "text": [
      "0.0019120458891013384\n",
      "0.03168114460909555\n",
      "0.12436289500509684\n"
     ]
    }
   ],
   "source": [
    "print(df_train_full[df_train_full.age <= 26.0].stroke.mean())\n",
    "print(df_train_full[(df_train_full.age > 26.0) & (df_train_full.age <= 61.0)].stroke.mean())\n",
    "print(df_train_full[df_train_full.age > 61.0].stroke.mean())"
   ]
  },
  {
   "cell_type": "code",
   "execution_count": 55,
   "id": "9ab76841",
   "metadata": {},
   "outputs": [
    {
     "data": {
      "image/png": "[encoded data removed]",
      "text/plain": [
       "<Figure size 640x480 with 1 Axes>"
      ]
     },
     "metadata": {},
     "output_type": "display_data"
    },
    {
     "data": {
      "image/png": "[encoded data removed]",
      "text/plain": [
       "<Figure size 640x480 with 1 Axes>"
      ]
     },
     "metadata": {},
     "output_type": "display_data"
    },
    {
     "data": {
      "image/png": "[encoded data removed]",
      "text/plain": [
       "<Figure size 640x480 with 1 Axes>"
      ]
     },
     "metadata": {},
     "output_type": "display_data"
    }
   ],
   "source": [
    "for numerical in columns_numerical:\n",
    "    df_plot = df_train_full[df_train_full.stroke == 1]\n",
    "    sns.histplot(df_plot, x = numerical, hue = 'gender', element = 'step', fill=False)\n",
    "    plt.title(f\"Brain strokes by {numerical}\")\n",
    "    plt.tick_params(axis='x', labelsize=\"small\", labelrotation=90)\n",
    "    plt.locator_params(axis='x', nbins=25)\n",
    "    plt.show()\n",
    "\n"
   ]
  },
  {
   "cell_type": "markdown",
   "id": "89efb132",
   "metadata": {},
   "source": [
    "## One-hot encoding\n",
    "- Use Scikit-Learn to encode categorical features"
   ]
  },
  {
   "cell_type": "code",
   "execution_count": 56,
   "id": "e8827045",
   "metadata": {},
   "outputs": [
    {
     "data": {
      "text/html": [
       "<div>\n",
       "<style scoped>\n",
       "    .dataframe tbody tr th:only-of-type {\n",
       "        vertical-align: middle;\n",
       "    }\n",
       "\n",
       "    .dataframe tbody tr th {\n",
       "        vertical-align: top;\n",
       "    }\n",
       "\n",
       "    .dataframe thead th {\n",
       "        text-align: right;\n",
       "    }\n",
       "</style>\n",
       "<table border=\"1\" class=\"dataframe\">\n",
       "  <thead>\n",
       "    <tr style=\"text-align: right;\">\n",
       "      <th></th>\n",
       "      <th>gender</th>\n",
       "      <th>ever_married</th>\n",
       "    </tr>\n",
       "  </thead>\n",
       "  <tbody>\n",
       "    <tr>\n",
       "      <th>0</th>\n",
       "      <td>female</td>\n",
       "      <td>yes</td>\n",
       "    </tr>\n",
       "    <tr>\n",
       "      <th>1</th>\n",
       "      <td>female</td>\n",
       "      <td>yes</td>\n",
       "    </tr>\n",
       "    <tr>\n",
       "      <th>2</th>\n",
       "      <td>female</td>\n",
       "      <td>no</td>\n",
       "    </tr>\n",
       "    <tr>\n",
       "      <th>3</th>\n",
       "      <td>male</td>\n",
       "      <td>yes</td>\n",
       "    </tr>\n",
       "    <tr>\n",
       "      <th>4</th>\n",
       "      <td>female</td>\n",
       "      <td>yes</td>\n",
       "    </tr>\n",
       "    <tr>\n",
       "      <th>5</th>\n",
       "      <td>male</td>\n",
       "      <td>yes</td>\n",
       "    </tr>\n",
       "    <tr>\n",
       "      <th>6</th>\n",
       "      <td>female</td>\n",
       "      <td>no</td>\n",
       "    </tr>\n",
       "    <tr>\n",
       "      <th>7</th>\n",
       "      <td>male</td>\n",
       "      <td>no</td>\n",
       "    </tr>\n",
       "    <tr>\n",
       "      <th>8</th>\n",
       "      <td>male</td>\n",
       "      <td>yes</td>\n",
       "    </tr>\n",
       "    <tr>\n",
       "      <th>9</th>\n",
       "      <td>male</td>\n",
       "      <td>yes</td>\n",
       "    </tr>\n",
       "  </tbody>\n",
       "</table>\n",
       "</div>"
      ],
      "text/plain": [
       "   gender ever_married\n",
       "0  female          yes\n",
       "1  female          yes\n",
       "2  female           no\n",
       "3    male          yes\n",
       "4  female          yes\n",
       "5    male          yes\n",
       "6  female           no\n",
       "7    male           no\n",
       "8    male          yes\n",
       "9    male          yes"
      ]
     },
     "execution_count": 56,
     "metadata": {},
     "output_type": "execute_result"
    }
   ],
   "source": [
    "df_train[['gender', 'ever_married']].iloc[:10]"
   ]
  },
  {
   "cell_type": "code",
   "execution_count": 57,
   "id": "264f1e17",
   "metadata": {},
   "outputs": [
    {
     "data": {
      "text/plain": [
       "{'gender': {0: 'female',\n",
       "  1: 'female',\n",
       "  2: 'female',\n",
       "  3: 'male',\n",
       "  4: 'female',\n",
       "  5: 'male',\n",
       "  6: 'female',\n",
       "  7: 'male',\n",
       "  8: 'male',\n",
       "  9: 'male'},\n",
       " 'ever_married': {0: 'yes',\n",
       "  1: 'yes',\n",
       "  2: 'no',\n",
       "  3: 'yes',\n",
       "  4: 'yes',\n",
       "  5: 'yes',\n",
       "  6: 'no',\n",
       "  7: 'no',\n",
       "  8: 'yes',\n",
       "  9: 'yes'}}"
      ]
     },
     "execution_count": 57,
     "metadata": {},
     "output_type": "execute_result"
    }
   ],
   "source": [
    "df_train[['gender', 'ever_married']].iloc[:10].to_dict()"
   ]
  },
  {
   "cell_type": "code",
   "execution_count": 58,
   "id": "32ff20c8",
   "metadata": {},
   "outputs": [
    {
     "data": {
      "text/plain": [
       "[{'gender': 'female', 'ever_married': 'yes'},\n",
       " {'gender': 'female', 'ever_married': 'yes'},\n",
       " {'gender': 'female', 'ever_married': 'no'},\n",
       " {'gender': 'male', 'ever_married': 'yes'},\n",
       " {'gender': 'female', 'ever_married': 'yes'},\n",
       " {'gender': 'male', 'ever_married': 'yes'},\n",
       " {'gender': 'female', 'ever_married': 'no'},\n",
       " {'gender': 'male', 'ever_married': 'no'},\n",
       " {'gender': 'male', 'ever_married': 'yes'},\n",
       " {'gender': 'male', 'ever_married': 'yes'}]"
      ]
     },
     "execution_count": 58,
     "metadata": {},
     "output_type": "execute_result"
    }
   ],
   "source": [
    "dicts = df_train[['gender', 'ever_married']].iloc[:10].to_dict(orient='records')\n",
    "dicts"
   ]
  },
  {
   "cell_type": "code",
   "execution_count": 59,
   "id": "28b045a9",
   "metadata": {},
   "outputs": [
    {
     "data": {
      "text/html": [
       "<style>#sk-container-id-1 {color: black;}#sk-container-id-1 pre{padding: 0;}#sk-container-id-1 div.sk-toggleable {background-color: white;}#sk-container-id-1 label.sk-toggleable__label {cursor: pointer;display: block;width: 100%;margin-bottom: 0;padding: 0.3em;box-sizing: border-box;text-align: center;}#sk-container-id-1 label.sk-toggleable__label-arrow:before {content: \"▸\";float: left;margin-right: 0.25em;color: #696969;}#sk-container-id-1 label.sk-toggleable__label-arrow:hover:before {color: black;}#sk-container-id-1 div.sk-estimator:hover label.sk-toggleable__label-arrow:before {color: black;}#sk-container-id-1 div.sk-toggleable__content {max-height: 0;max-width: 0;overflow: hidden;text-align: left;background-color: #f0f8ff;}#sk-container-id-1 div.sk-toggleable__content pre {margin: 0.2em;color: black;border-radius: 0.25em;background-color: #f0f8ff;}#sk-container-id-1 input.sk-toggleable__control:checked~div.sk-toggleable__content {max-height: 200px;max-width: 100%;overflow: auto;}#sk-container-id-1 input.sk-toggleable__control:checked~label.sk-toggleable__label-arrow:before {content: \"▾\";}#sk-container-id-1 div.sk-estimator input.sk-toggleable__control:checked~label.sk-toggleable__label {background-color: #d4ebff;}#sk-container-id-1 div.sk-label input.sk-toggleable__control:checked~label.sk-toggleable__label {background-color: #d4ebff;}#sk-container-id-1 input.sk-hidden--visually {border: 0;clip: rect(1px 1px 1px 1px);clip: rect(1px, 1px, 1px, 1px);height: 1px;margin: -1px;overflow: hidden;padding: 0;position: absolute;width: 1px;}#sk-container-id-1 div.sk-estimator {font-family: monospace;background-color: #f0f8ff;border: 1px dotted black;border-radius: 0.25em;box-sizing: border-box;margin-bottom: 0.5em;}#sk-container-id-1 div.sk-estimator:hover {background-color: #d4ebff;}#sk-container-id-1 div.sk-parallel-item::after {content: \"\";width: 100%;border-bottom: 1px solid gray;flex-grow: 1;}#sk-container-id-1 div.sk-label:hover label.sk-toggleable__label {background-color: #d4ebff;}#sk-container-id-1 div.sk-serial::before {content: \"\";position: absolute;border-left: 1px solid gray;box-sizing: border-box;top: 0;bottom: 0;left: 50%;z-index: 0;}#sk-container-id-1 div.sk-serial {display: flex;flex-direction: column;align-items: center;background-color: white;padding-right: 0.2em;padding-left: 0.2em;position: relative;}#sk-container-id-1 div.sk-item {position: relative;z-index: 1;}#sk-container-id-1 div.sk-parallel {display: flex;align-items: stretch;justify-content: center;background-color: white;position: relative;}#sk-container-id-1 div.sk-item::before, #sk-container-id-1 div.sk-parallel-item::before {content: \"\";position: absolute;border-left: 1px solid gray;box-sizing: border-box;top: 0;bottom: 0;left: 50%;z-index: -1;}#sk-container-id-1 div.sk-parallel-item {display: flex;flex-direction: column;z-index: 1;position: relative;background-color: white;}#sk-container-id-1 div.sk-parallel-item:first-child::after {align-self: flex-end;width: 50%;}#sk-container-id-1 div.sk-parallel-item:last-child::after {align-self: flex-start;width: 50%;}#sk-container-id-1 div.sk-parallel-item:only-child::after {width: 0;}#sk-container-id-1 div.sk-dashed-wrapped {border: 1px dashed gray;margin: 0 0.4em 0.5em 0.4em;box-sizing: border-box;padding-bottom: 0.4em;background-color: white;}#sk-container-id-1 div.sk-label label {font-family: monospace;font-weight: bold;display: inline-block;line-height: 1.2em;}#sk-container-id-1 div.sk-label-container {text-align: center;}#sk-container-id-1 div.sk-container {/* jupyter's `normalize.less` sets `[hidden] { display: none; }` but bootstrap.min.css set `[hidden] { display: none !important; }` so we also need the `!important` here to be able to override the default hidden behavior on the sphinx rendered scikit-learn.org. See: https://github.com/scikit-learn/scikit-learn/issues/21755 */display: inline-block !important;position: relative;}#sk-container-id-1 div.sk-text-repr-fallback {display: none;}</style><div id=\"sk-container-id-1\" class=\"sk-top-container\"><div class=\"sk-text-repr-fallback\"><pre>DictVectorizer()</pre><b>In a Jupyter environment, please rerun this cell to show the HTML representation or trust the notebook. <br />On GitHub, the HTML representation is unable to render, please try loading this page with nbviewer.org.</b></div><div class=\"sk-container\" hidden><div class=\"sk-item\"><div class=\"sk-estimator sk-toggleable\"><input class=\"sk-toggleable__control sk-hidden--visually\" id=\"sk-estimator-id-1\" type=\"checkbox\" checked><label for=\"sk-estimator-id-1\" class=\"sk-toggleable__label sk-toggleable__label-arrow\">DictVectorizer</label><div class=\"sk-toggleable__content\"><pre>DictVectorizer()</pre></div></div></div></div></div>"
      ],
      "text/plain": [
       "DictVectorizer()"
      ]
     },
     "execution_count": 59,
     "metadata": {},
     "output_type": "execute_result"
    }
   ],
   "source": [
    "dv = DictVectorizer()\n",
    "dv.fit(dicts)"
   ]
  },
  {
   "cell_type": "code",
   "execution_count": 60,
   "id": "b3b60bd1",
   "metadata": {},
   "outputs": [
    {
     "data": {
      "text/plain": [
       "<10x4 sparse matrix of type '<class 'numpy.float64'>'\n",
       "\twith 20 stored elements in Compressed Sparse Row format>"
      ]
     },
     "execution_count": 60,
     "metadata": {},
     "output_type": "execute_result"
    }
   ],
   "source": [
    "dv.transform(dicts)"
   ]
  },
  {
   "cell_type": "code",
   "execution_count": 61,
   "id": "28ce3865",
   "metadata": {},
   "outputs": [
    {
     "data": {
      "text/html": [
       "<style>#sk-container-id-2 {color: black;}#sk-container-id-2 pre{padding: 0;}#sk-container-id-2 div.sk-toggleable {background-color: white;}#sk-container-id-2 label.sk-toggleable__label {cursor: pointer;display: block;width: 100%;margin-bottom: 0;padding: 0.3em;box-sizing: border-box;text-align: center;}#sk-container-id-2 label.sk-toggleable__label-arrow:before {content: \"▸\";float: left;margin-right: 0.25em;color: #696969;}#sk-container-id-2 label.sk-toggleable__label-arrow:hover:before {color: black;}#sk-container-id-2 div.sk-estimator:hover label.sk-toggleable__label-arrow:before {color: black;}#sk-container-id-2 div.sk-toggleable__content {max-height: 0;max-width: 0;overflow: hidden;text-align: left;background-color: #f0f8ff;}#sk-container-id-2 div.sk-toggleable__content pre {margin: 0.2em;color: black;border-radius: 0.25em;background-color: #f0f8ff;}#sk-container-id-2 input.sk-toggleable__control:checked~div.sk-toggleable__content {max-height: 200px;max-width: 100%;overflow: auto;}#sk-container-id-2 input.sk-toggleable__control:checked~label.sk-toggleable__label-arrow:before {content: \"▾\";}#sk-container-id-2 div.sk-estimator input.sk-toggleable__control:checked~label.sk-toggleable__label {background-color: #d4ebff;}#sk-container-id-2 div.sk-label input.sk-toggleable__control:checked~label.sk-toggleable__label {background-color: #d4ebff;}#sk-container-id-2 input.sk-hidden--visually {border: 0;clip: rect(1px 1px 1px 1px);clip: rect(1px, 1px, 1px, 1px);height: 1px;margin: -1px;overflow: hidden;padding: 0;position: absolute;width: 1px;}#sk-container-id-2 div.sk-estimator {font-family: monospace;background-color: #f0f8ff;border: 1px dotted black;border-radius: 0.25em;box-sizing: border-box;margin-bottom: 0.5em;}#sk-container-id-2 div.sk-estimator:hover {background-color: #d4ebff;}#sk-container-id-2 div.sk-parallel-item::after {content: \"\";width: 100%;border-bottom: 1px solid gray;flex-grow: 1;}#sk-container-id-2 div.sk-label:hover label.sk-toggleable__label {background-color: #d4ebff;}#sk-container-id-2 div.sk-serial::before {content: \"\";position: absolute;border-left: 1px solid gray;box-sizing: border-box;top: 0;bottom: 0;left: 50%;z-index: 0;}#sk-container-id-2 div.sk-serial {display: flex;flex-direction: column;align-items: center;background-color: white;padding-right: 0.2em;padding-left: 0.2em;position: relative;}#sk-container-id-2 div.sk-item {position: relative;z-index: 1;}#sk-container-id-2 div.sk-parallel {display: flex;align-items: stretch;justify-content: center;background-color: white;position: relative;}#sk-container-id-2 div.sk-item::before, #sk-container-id-2 div.sk-parallel-item::before {content: \"\";position: absolute;border-left: 1px solid gray;box-sizing: border-box;top: 0;bottom: 0;left: 50%;z-index: -1;}#sk-container-id-2 div.sk-parallel-item {display: flex;flex-direction: column;z-index: 1;position: relative;background-color: white;}#sk-container-id-2 div.sk-parallel-item:first-child::after {align-self: flex-end;width: 50%;}#sk-container-id-2 div.sk-parallel-item:last-child::after {align-self: flex-start;width: 50%;}#sk-container-id-2 div.sk-parallel-item:only-child::after {width: 0;}#sk-container-id-2 div.sk-dashed-wrapped {border: 1px dashed gray;margin: 0 0.4em 0.5em 0.4em;box-sizing: border-box;padding-bottom: 0.4em;background-color: white;}#sk-container-id-2 div.sk-label label {font-family: monospace;font-weight: bold;display: inline-block;line-height: 1.2em;}#sk-container-id-2 div.sk-label-container {text-align: center;}#sk-container-id-2 div.sk-container {/* jupyter's `normalize.less` sets `[hidden] { display: none; }` but bootstrap.min.css set `[hidden] { display: none !important; }` so we also need the `!important` here to be able to override the default hidden behavior on the sphinx rendered scikit-learn.org. See: https://github.com/scikit-learn/scikit-learn/issues/21755 */display: inline-block !important;position: relative;}#sk-container-id-2 div.sk-text-repr-fallback {display: none;}</style><div id=\"sk-container-id-2\" class=\"sk-top-container\"><div class=\"sk-text-repr-fallback\"><pre>DictVectorizer(sparse=False)</pre><b>In a Jupyter environment, please rerun this cell to show the HTML representation or trust the notebook. <br />On GitHub, the HTML representation is unable to render, please try loading this page with nbviewer.org.</b></div><div class=\"sk-container\" hidden><div class=\"sk-item\"><div class=\"sk-estimator sk-toggleable\"><input class=\"sk-toggleable__control sk-hidden--visually\" id=\"sk-estimator-id-2\" type=\"checkbox\" checked><label for=\"sk-estimator-id-2\" class=\"sk-toggleable__label sk-toggleable__label-arrow\">DictVectorizer</label><div class=\"sk-toggleable__content\"><pre>DictVectorizer(sparse=False)</pre></div></div></div></div></div>"
      ],
      "text/plain": [
       "DictVectorizer(sparse=False)"
      ]
     },
     "execution_count": 61,
     "metadata": {},
     "output_type": "execute_result"
    }
   ],
   "source": [
    "dv = DictVectorizer(sparse=False)\n",
    "dv.fit(dicts)"
   ]
  },
  {
   "cell_type": "code",
   "execution_count": 62,
   "id": "8b53ead8",
   "metadata": {},
   "outputs": [
    {
     "data": {
      "text/plain": [
       "array([[0., 1., 1., 0.],\n",
       "       [0., 1., 1., 0.],\n",
       "       [1., 0., 1., 0.],\n",
       "       [0., 1., 0., 1.],\n",
       "       [0., 1., 1., 0.],\n",
       "       [0., 1., 0., 1.],\n",
       "       [1., 0., 1., 0.],\n",
       "       [1., 0., 0., 1.],\n",
       "       [0., 1., 0., 1.],\n",
       "       [0., 1., 0., 1.]])"
      ]
     },
     "execution_count": 62,
     "metadata": {},
     "output_type": "execute_result"
    }
   ],
   "source": [
    "dv.transform(dicts)"
   ]
  },
  {
   "cell_type": "code",
   "execution_count": 63,
   "id": "c5a03b54",
   "metadata": {},
   "outputs": [
    {
     "data": {
      "text/plain": [
       "array(['ever_married=no', 'ever_married=yes', 'gender=female',\n",
       "       'gender=male'], dtype=object)"
      ]
     },
     "execution_count": 63,
     "metadata": {},
     "output_type": "execute_result"
    }
   ],
   "source": [
    "dv.get_feature_names_out()"
   ]
  },
  {
   "cell_type": "code",
   "execution_count": 64,
   "id": "fea434ad",
   "metadata": {},
   "outputs": [],
   "source": [
    "train_dict = df_train[columns_categorical + columns_binary + columns_numerical].to_dict(orient='records')"
   ]
  },
  {
   "cell_type": "code",
   "execution_count": 65,
   "id": "9f6684e3",
   "metadata": {},
   "outputs": [
    {
     "data": {
      "text/plain": [
       "{'gender': 'female',\n",
       " 'ever_married': 'yes',\n",
       " 'work_type': 'self-employed',\n",
       " 'residence_type': 'urban',\n",
       " 'smoking_status': 'unknown',\n",
       " 'hypertension': 0,\n",
       " 'heart_disease': 0,\n",
       " 'age': 59.0,\n",
       " 'avg_glucose_level': 81.64,\n",
       " 'bmi': 32.8}"
      ]
     },
     "execution_count": 65,
     "metadata": {},
     "output_type": "execute_result"
    }
   ],
   "source": [
    "train_dict[0]"
   ]
  },
  {
   "cell_type": "code",
   "execution_count": 66,
   "id": "9bc1fd36",
   "metadata": {},
   "outputs": [
    {
     "data": {
      "text/html": [
       "<style>#sk-container-id-3 {color: black;}#sk-container-id-3 pre{padding: 0;}#sk-container-id-3 div.sk-toggleable {background-color: white;}#sk-container-id-3 label.sk-toggleable__label {cursor: pointer;display: block;width: 100%;margin-bottom: 0;padding: 0.3em;box-sizing: border-box;text-align: center;}#sk-container-id-3 label.sk-toggleable__label-arrow:before {content: \"▸\";float: left;margin-right: 0.25em;color: #696969;}#sk-container-id-3 label.sk-toggleable__label-arrow:hover:before {color: black;}#sk-container-id-3 div.sk-estimator:hover label.sk-toggleable__label-arrow:before {color: black;}#sk-container-id-3 div.sk-toggleable__content {max-height: 0;max-width: 0;overflow: hidden;text-align: left;background-color: #f0f8ff;}#sk-container-id-3 div.sk-toggleable__content pre {margin: 0.2em;color: black;border-radius: 0.25em;background-color: #f0f8ff;}#sk-container-id-3 input.sk-toggleable__control:checked~div.sk-toggleable__content {max-height: 200px;max-width: 100%;overflow: auto;}#sk-container-id-3 input.sk-toggleable__control:checked~label.sk-toggleable__label-arrow:before {content: \"▾\";}#sk-container-id-3 div.sk-estimator input.sk-toggleable__control:checked~label.sk-toggleable__label {background-color: #d4ebff;}#sk-container-id-3 div.sk-label input.sk-toggleable__control:checked~label.sk-toggleable__label {background-color: #d4ebff;}#sk-container-id-3 input.sk-hidden--visually {border: 0;clip: rect(1px 1px 1px 1px);clip: rect(1px, 1px, 1px, 1px);height: 1px;margin: -1px;overflow: hidden;padding: 0;position: absolute;width: 1px;}#sk-container-id-3 div.sk-estimator {font-family: monospace;background-color: #f0f8ff;border: 1px dotted black;border-radius: 0.25em;box-sizing: border-box;margin-bottom: 0.5em;}#sk-container-id-3 div.sk-estimator:hover {background-color: #d4ebff;}#sk-container-id-3 div.sk-parallel-item::after {content: \"\";width: 100%;border-bottom: 1px solid gray;flex-grow: 1;}#sk-container-id-3 div.sk-label:hover label.sk-toggleable__label {background-color: #d4ebff;}#sk-container-id-3 div.sk-serial::before {content: \"\";position: absolute;border-left: 1px solid gray;box-sizing: border-box;top: 0;bottom: 0;left: 50%;z-index: 0;}#sk-container-id-3 div.sk-serial {display: flex;flex-direction: column;align-items: center;background-color: white;padding-right: 0.2em;padding-left: 0.2em;position: relative;}#sk-container-id-3 div.sk-item {position: relative;z-index: 1;}#sk-container-id-3 div.sk-parallel {display: flex;align-items: stretch;justify-content: center;background-color: white;position: relative;}#sk-container-id-3 div.sk-item::before, #sk-container-id-3 div.sk-parallel-item::before {content: \"\";position: absolute;border-left: 1px solid gray;box-sizing: border-box;top: 0;bottom: 0;left: 50%;z-index: -1;}#sk-container-id-3 div.sk-parallel-item {display: flex;flex-direction: column;z-index: 1;position: relative;background-color: white;}#sk-container-id-3 div.sk-parallel-item:first-child::after {align-self: flex-end;width: 50%;}#sk-container-id-3 div.sk-parallel-item:last-child::after {align-self: flex-start;width: 50%;}#sk-container-id-3 div.sk-parallel-item:only-child::after {width: 0;}#sk-container-id-3 div.sk-dashed-wrapped {border: 1px dashed gray;margin: 0 0.4em 0.5em 0.4em;box-sizing: border-box;padding-bottom: 0.4em;background-color: white;}#sk-container-id-3 div.sk-label label {font-family: monospace;font-weight: bold;display: inline-block;line-height: 1.2em;}#sk-container-id-3 div.sk-label-container {text-align: center;}#sk-container-id-3 div.sk-container {/* jupyter's `normalize.less` sets `[hidden] { display: none; }` but bootstrap.min.css set `[hidden] { display: none !important; }` so we also need the `!important` here to be able to override the default hidden behavior on the sphinx rendered scikit-learn.org. See: https://github.com/scikit-learn/scikit-learn/issues/21755 */display: inline-block !important;position: relative;}#sk-container-id-3 div.sk-text-repr-fallback {display: none;}</style><div id=\"sk-container-id-3\" class=\"sk-top-container\"><div class=\"sk-text-repr-fallback\"><pre>DictVectorizer(sparse=False)</pre><b>In a Jupyter environment, please rerun this cell to show the HTML representation or trust the notebook. <br />On GitHub, the HTML representation is unable to render, please try loading this page with nbviewer.org.</b></div><div class=\"sk-container\" hidden><div class=\"sk-item\"><div class=\"sk-estimator sk-toggleable\"><input class=\"sk-toggleable__control sk-hidden--visually\" id=\"sk-estimator-id-3\" type=\"checkbox\" checked><label for=\"sk-estimator-id-3\" class=\"sk-toggleable__label sk-toggleable__label-arrow\">DictVectorizer</label><div class=\"sk-toggleable__content\"><pre>DictVectorizer(sparse=False)</pre></div></div></div></div></div>"
      ],
      "text/plain": [
       "DictVectorizer(sparse=False)"
      ]
     },
     "execution_count": 66,
     "metadata": {},
     "output_type": "execute_result"
    }
   ],
   "source": [
    "dv = DictVectorizer(sparse=False)\n",
    "dv.fit(train_dict)"
   ]
  },
  {
   "cell_type": "code",
   "execution_count": 67,
   "id": "092780e2",
   "metadata": {},
   "outputs": [
    {
     "data": {
      "text/plain": [
       "array(['age', 'avg_glucose_level', 'bmi', 'ever_married=no',\n",
       "       'ever_married=yes', 'gender=female', 'gender=male',\n",
       "       'heart_disease', 'hypertension', 'residence_type=rural',\n",
       "       'residence_type=urban', 'smoking_status=formerly_smoked',\n",
       "       'smoking_status=never_smoked', 'smoking_status=smokes',\n",
       "       'smoking_status=unknown', 'work_type=children',\n",
       "       'work_type=govt_job', 'work_type=private',\n",
       "       'work_type=self-employed'], dtype=object)"
      ]
     },
     "execution_count": 67,
     "metadata": {},
     "output_type": "execute_result"
    }
   ],
   "source": [
    "dv.get_feature_names_out()"
   ]
  },
  {
   "cell_type": "code",
   "execution_count": 68,
   "id": "10c197fd",
   "metadata": {},
   "outputs": [
    {
     "data": {
      "text/plain": [
       "array([59.  , 81.64, 32.8 ,  0.  ,  1.  ,  1.  ,  0.  ,  0.  ,  0.  ,\n",
       "        0.  ,  1.  ,  0.  ,  0.  ,  0.  ,  1.  ,  0.  ,  0.  ,  0.  ,\n",
       "        1.  ])"
      ]
     },
     "execution_count": 68,
     "metadata": {},
     "output_type": "execute_result"
    }
   ],
   "source": [
    "dv.transform(train_dict[:5])[0]"
   ]
  },
  {
   "cell_type": "code",
   "execution_count": 69,
   "id": "04e2ba92",
   "metadata": {},
   "outputs": [
    {
     "data": {
      "text/plain": [
       "[59.0,\n",
       " 81.64,\n",
       " 32.8,\n",
       " 0.0,\n",
       " 1.0,\n",
       " 1.0,\n",
       " 0.0,\n",
       " 0.0,\n",
       " 0.0,\n",
       " 0.0,\n",
       " 1.0,\n",
       " 0.0,\n",
       " 0.0,\n",
       " 0.0,\n",
       " 1.0,\n",
       " 0.0,\n",
       " 0.0,\n",
       " 0.0,\n",
       " 1.0]"
      ]
     },
     "execution_count": 69,
     "metadata": {},
     "output_type": "execute_result"
    }
   ],
   "source": [
    "list(dv.transform(train_dict[:5])[0])"
   ]
  },
  {
   "cell_type": "code",
   "execution_count": 70,
   "id": "3224dbe4",
   "metadata": {},
   "outputs": [
    {
     "name": "stdout",
     "output_type": "stream",
     "text": [
      "(2988, 19)\n",
      "(996, 19)\n"
     ]
    }
   ],
   "source": [
    "X_train = dv.fit_transform(train_dict)\n",
    "val_dicts = df_val[columns_categorical + columns_binary + columns_numerical].to_dict(orient='records')\n",
    "X_val = dv.transform(val_dicts)\n",
    "print(X_train.shape)\n",
    "print(X_val.shape)"
   ]
  },
  {
   "cell_type": "markdown",
   "id": "a973033c",
   "metadata": {},
   "source": [
    "## Training logistic regression with Scikit-Learn\n",
    "- Train a model with Scikit-Learn\n",
    "- Apply it to the validation dataset\n",
    "- Calculate the accuracy"
   ]
  },
  {
   "cell_type": "code",
   "execution_count": 71,
   "id": "23bda715",
   "metadata": {},
   "outputs": [
    {
     "data": {
      "text/html": [
       "<style>#sk-container-id-4 {color: black;}#sk-container-id-4 pre{padding: 0;}#sk-container-id-4 div.sk-toggleable {background-color: white;}#sk-container-id-4 label.sk-toggleable__label {cursor: pointer;display: block;width: 100%;margin-bottom: 0;padding: 0.3em;box-sizing: border-box;text-align: center;}#sk-container-id-4 label.sk-toggleable__label-arrow:before {content: \"▸\";float: left;margin-right: 0.25em;color: #696969;}#sk-container-id-4 label.sk-toggleable__label-arrow:hover:before {color: black;}#sk-container-id-4 div.sk-estimator:hover label.sk-toggleable__label-arrow:before {color: black;}#sk-container-id-4 div.sk-toggleable__content {max-height: 0;max-width: 0;overflow: hidden;text-align: left;background-color: #f0f8ff;}#sk-container-id-4 div.sk-toggleable__content pre {margin: 0.2em;color: black;border-radius: 0.25em;background-color: #f0f8ff;}#sk-container-id-4 input.sk-toggleable__control:checked~div.sk-toggleable__content {max-height: 200px;max-width: 100%;overflow: auto;}#sk-container-id-4 input.sk-toggleable__control:checked~label.sk-toggleable__label-arrow:before {content: \"▾\";}#sk-container-id-4 div.sk-estimator input.sk-toggleable__control:checked~label.sk-toggleable__label {background-color: #d4ebff;}#sk-container-id-4 div.sk-label input.sk-toggleable__control:checked~label.sk-toggleable__label {background-color: #d4ebff;}#sk-container-id-4 input.sk-hidden--visually {border: 0;clip: rect(1px 1px 1px 1px);clip: rect(1px, 1px, 1px, 1px);height: 1px;margin: -1px;overflow: hidden;padding: 0;position: absolute;width: 1px;}#sk-container-id-4 div.sk-estimator {font-family: monospace;background-color: #f0f8ff;border: 1px dotted black;border-radius: 0.25em;box-sizing: border-box;margin-bottom: 0.5em;}#sk-container-id-4 div.sk-estimator:hover {background-color: #d4ebff;}#sk-container-id-4 div.sk-parallel-item::after {content: \"\";width: 100%;border-bottom: 1px solid gray;flex-grow: 1;}#sk-container-id-4 div.sk-label:hover label.sk-toggleable__label {background-color: #d4ebff;}#sk-container-id-4 div.sk-serial::before {content: \"\";position: absolute;border-left: 1px solid gray;box-sizing: border-box;top: 0;bottom: 0;left: 50%;z-index: 0;}#sk-container-id-4 div.sk-serial {display: flex;flex-direction: column;align-items: center;background-color: white;padding-right: 0.2em;padding-left: 0.2em;position: relative;}#sk-container-id-4 div.sk-item {position: relative;z-index: 1;}#sk-container-id-4 div.sk-parallel {display: flex;align-items: stretch;justify-content: center;background-color: white;position: relative;}#sk-container-id-4 div.sk-item::before, #sk-container-id-4 div.sk-parallel-item::before {content: \"\";position: absolute;border-left: 1px solid gray;box-sizing: border-box;top: 0;bottom: 0;left: 50%;z-index: -1;}#sk-container-id-4 div.sk-parallel-item {display: flex;flex-direction: column;z-index: 1;position: relative;background-color: white;}#sk-container-id-4 div.sk-parallel-item:first-child::after {align-self: flex-end;width: 50%;}#sk-container-id-4 div.sk-parallel-item:last-child::after {align-self: flex-start;width: 50%;}#sk-container-id-4 div.sk-parallel-item:only-child::after {width: 0;}#sk-container-id-4 div.sk-dashed-wrapped {border: 1px dashed gray;margin: 0 0.4em 0.5em 0.4em;box-sizing: border-box;padding-bottom: 0.4em;background-color: white;}#sk-container-id-4 div.sk-label label {font-family: monospace;font-weight: bold;display: inline-block;line-height: 1.2em;}#sk-container-id-4 div.sk-label-container {text-align: center;}#sk-container-id-4 div.sk-container {/* jupyter's `normalize.less` sets `[hidden] { display: none; }` but bootstrap.min.css set `[hidden] { display: none !important; }` so we also need the `!important` here to be able to override the default hidden behavior on the sphinx rendered scikit-learn.org. See: https://github.com/scikit-learn/scikit-learn/issues/21755 */display: inline-block !important;position: relative;}#sk-container-id-4 div.sk-text-repr-fallback {display: none;}</style><div id=\"sk-container-id-4\" class=\"sk-top-container\"><div class=\"sk-text-repr-fallback\"><pre>LogisticRegression(random_state=1, solver=&#x27;liblinear&#x27;)</pre><b>In a Jupyter environment, please rerun this cell to show the HTML representation or trust the notebook. <br />On GitHub, the HTML representation is unable to render, please try loading this page with nbviewer.org.</b></div><div class=\"sk-container\" hidden><div class=\"sk-item\"><div class=\"sk-estimator sk-toggleable\"><input class=\"sk-toggleable__control sk-hidden--visually\" id=\"sk-estimator-id-4\" type=\"checkbox\" checked><label for=\"sk-estimator-id-4\" class=\"sk-toggleable__label sk-toggleable__label-arrow\">LogisticRegression</label><div class=\"sk-toggleable__content\"><pre>LogisticRegression(random_state=1, solver=&#x27;liblinear&#x27;)</pre></div></div></div></div></div>"
      ],
      "text/plain": [
       "LogisticRegression(random_state=1, solver='liblinear')"
      ]
     },
     "execution_count": 71,
     "metadata": {},
     "output_type": "execute_result"
    }
   ],
   "source": [
    "model = LogisticRegression(solver='liblinear', random_state=1)\n",
    "model.fit(X_train, y_train)"
   ]
  },
  {
   "cell_type": "code",
   "execution_count": 72,
   "id": "03d7611d",
   "metadata": {},
   "outputs": [
    {
     "data": {
      "text/plain": [
       "array([[ 6.30960676e-02,  4.51948661e-03, -7.27233030e-04,\n",
       "        -1.04237798e+00, -1.21957582e+00, -1.12213819e+00,\n",
       "        -1.13981561e+00,  3.84358810e-01,  3.81572389e-01,\n",
       "        -1.18773715e+00, -1.07421666e+00, -6.77653149e-01,\n",
       "        -7.71282624e-01, -2.06721128e-01, -6.06296903e-01,\n",
       "         2.63324098e-02, -7.26882645e-01, -6.14133666e-01,\n",
       "        -9.47269903e-01]])"
      ]
     },
     "execution_count": 72,
     "metadata": {},
     "output_type": "execute_result"
    }
   ],
   "source": [
    "model.coef_"
   ]
  },
  {
   "cell_type": "code",
   "execution_count": 73,
   "id": "6e7bf2f9",
   "metadata": {},
   "outputs": [
    {
     "data": {
      "text/plain": [
       "array([ 6.300e-02,  5.000e-03, -1.000e-03, -1.042e+00, -1.220e+00,\n",
       "       -1.122e+00, -1.140e+00,  3.840e-01,  3.820e-01, -1.188e+00,\n",
       "       -1.074e+00, -6.780e-01, -7.710e-01, -2.070e-01, -6.060e-01,\n",
       "        2.600e-02, -7.270e-01, -6.140e-01, -9.470e-01])"
      ]
     },
     "execution_count": 73,
     "metadata": {},
     "output_type": "execute_result"
    }
   ],
   "source": [
    "model.coef_[0].round(3) # weights"
   ]
  },
  {
   "cell_type": "code",
   "execution_count": 74,
   "id": "cfcdcd43",
   "metadata": {},
   "outputs": [
    {
     "data": {
      "text/plain": [
       "array([-2.2619538])"
      ]
     },
     "execution_count": 74,
     "metadata": {},
     "output_type": "execute_result"
    }
   ],
   "source": [
    "model.intercept_"
   ]
  },
  {
   "cell_type": "code",
   "execution_count": 75,
   "id": "de2a5db1",
   "metadata": {},
   "outputs": [
    {
     "data": {
      "text/plain": [
       "-2.262"
      ]
     },
     "execution_count": 75,
     "metadata": {},
     "output_type": "execute_result"
    }
   ],
   "source": [
    "model.intercept_[0].round(3)"
   ]
  },
  {
   "cell_type": "code",
   "execution_count": 76,
   "id": "9064c849",
   "metadata": {},
   "outputs": [
    {
     "data": {
      "text/plain": [
       "array([0, 0, 0, ..., 0, 0, 0])"
      ]
     },
     "execution_count": 76,
     "metadata": {},
     "output_type": "execute_result"
    }
   ],
   "source": [
    "model.predict(X_train)"
   ]
  },
  {
   "cell_type": "code",
   "execution_count": 77,
   "id": "4ced54c9",
   "metadata": {},
   "outputs": [
    {
     "data": {
      "text/plain": [
       "array([[0.95944382, 0.04055618],\n",
       "       [0.96504271, 0.03495729],\n",
       "       [0.9757279 , 0.0242721 ],\n",
       "       ...,\n",
       "       [0.93376632, 0.06623368],\n",
       "       [0.99454718, 0.00545282],\n",
       "       [0.99139993, 0.00860007]])"
      ]
     },
     "execution_count": 77,
     "metadata": {},
     "output_type": "execute_result"
    }
   ],
   "source": [
    "model.predict_proba(X_train)"
   ]
  },
  {
   "cell_type": "code",
   "execution_count": 78,
   "id": "f4b89bd7",
   "metadata": {},
   "outputs": [
    {
     "data": {
      "text/plain": [
       "array([0.04117978, 0.01338613, 0.00481434, 0.01575954, 0.04822021,\n",
       "       0.00413937, 0.00344885, 0.00485114, 0.25805864, 0.01320338,\n",
       "       0.01169732, 0.01634636, 0.01473993, 0.05507542, 0.00997912,\n",
       "       0.06160339, 0.03616459, 0.00410238, 0.0294522 , 0.35862567,\n",
       "       0.01097272, 0.01838024, 0.01854671, 0.03253168, 0.00697778,\n",
       "       0.06196957, 0.14824719, 0.03614087, 0.00278654, 0.00793137,\n",
       "       0.06833605, 0.19071717, 0.05279322, 0.04465753, 0.01530583,\n",
       "       0.01498256, 0.00992563, 0.0187994 , 0.12956384, 0.1422271 ,\n",
       "       0.01125994, 0.00468622, 0.08727447, 0.02913751, 0.00825059,\n",
       "       0.01144231, 0.02473604, 0.00708502, 0.00352389, 0.00385538,\n",
       "       0.03963379, 0.00561896, 0.06041707, 0.01994869, 0.01261623,\n",
       "       0.14761107, 0.00810827, 0.0098464 , 0.00824517, 0.05293159,\n",
       "       0.00410033, 0.12434896, 0.07044623, 0.12115538, 0.11557907,\n",
       "       0.00801929, 0.0446489 , 0.29356148, 0.00342114, 0.09126075,\n",
       "       0.09938888, 0.00645878, 0.00810469, 0.04854673, 0.00704264,\n",
       "       0.10051624, 0.04292523, 0.06142998, 0.00744567, 0.21434847,\n",
       "       0.11675471, 0.02045126, 0.00310565, 0.07718108, 0.06959503,\n",
       "       0.02027966, 0.0034486 , 0.00716499, 0.03119011, 0.01242514,\n",
       "       0.17648755, 0.03848915, 0.01524436, 0.05614706, 0.17239656,\n",
       "       0.01375791, 0.0261509 , 0.03775631, 0.05701923, 0.04663299,\n",
       "       0.00558557, 0.01150137, 0.00578134, 0.00454111, 0.00358003,\n",
       "       0.03011992, 0.01249698, 0.00738118, 0.02865688, 0.05041345,\n",
       "       0.17906673, 0.00361688, 0.00425829, 0.00913931, 0.16815354,\n",
       "       0.09820838, 0.07527114, 0.12077742, 0.15403511, 0.00317412,\n",
       "       0.04777546, 0.00330999, 0.00698721, 0.03505495, 0.01790994,\n",
       "       0.00797975, 0.00728536, 0.00948783, 0.02700333, 0.0061873 ,\n",
       "       0.0073837 , 0.17070886, 0.00933769, 0.00374006, 0.03318687,\n",
       "       0.00682271, 0.00431918, 0.05602816, 0.0799348 , 0.00885994,\n",
       "       0.03099907, 0.11036709, 0.00343147, 0.04992218, 0.09387494,\n",
       "       0.07091337, 0.011188  , 0.0068681 , 0.15633676, 0.31070907,\n",
       "       0.02149964, 0.2423745 , 0.05725308, 0.06124715, 0.00562895,\n",
       "       0.03210194, 0.0099025 , 0.12867862, 0.03131061, 0.19129454,\n",
       "       0.01884871, 0.14084988, 0.02977895, 0.00516788, 0.0043904 ,\n",
       "       0.00480916, 0.07792788, 0.11621146, 0.00536372, 0.01173045,\n",
       "       0.00945904, 0.00736291, 0.0885645 , 0.00643897, 0.02656865,\n",
       "       0.00369866, 0.00543615, 0.00680867, 0.03187769, 0.00433631,\n",
       "       0.01647312, 0.07546174, 0.04164959, 0.08401007, 0.04319031,\n",
       "       0.01368336, 0.03133392, 0.12538188, 0.00589019, 0.09344742,\n",
       "       0.00877285, 0.03227311, 0.00475175, 0.01509959, 0.02452004,\n",
       "       0.18821157, 0.0038743 , 0.00595914, 0.05653868, 0.05402097,\n",
       "       0.03036223, 0.16916161, 0.05784455, 0.11187939, 0.11158486,\n",
       "       0.00532167, 0.12015146, 0.04556367, 0.00626146, 0.00586027,\n",
       "       0.00875536, 0.20158339, 0.00457191, 0.19377416, 0.03511843,\n",
       "       0.0068846 , 0.01267999, 0.00868518, 0.06893104, 0.07805362,\n",
       "       0.07752453, 0.02376582, 0.13358015, 0.01137121, 0.1032375 ,\n",
       "       0.03546947, 0.00770903, 0.01008529, 0.16833328, 0.00220463,\n",
       "       0.02923295, 0.01718249, 0.08753347, 0.02014913, 0.20408635,\n",
       "       0.00586418, 0.11329301, 0.05571699, 0.12843645, 0.08056968,\n",
       "       0.03215435, 0.01566535, 0.2011463 , 0.01295009, 0.00313213,\n",
       "       0.0119716 , 0.11259621, 0.16155218, 0.02180049, 0.12090926,\n",
       "       0.30868985, 0.00371864, 0.07509721, 0.01441007, 0.00381997,\n",
       "       0.19624289, 0.04995517, 0.13958129, 0.00342253, 0.00467166,\n",
       "       0.20904403, 0.02653153, 0.1643245 , 0.03869718, 0.08701517,\n",
       "       0.07573785, 0.01533375, 0.0043019 , 0.12303271, 0.00537343,\n",
       "       0.13965311, 0.15486844, 0.07506681, 0.21208579, 0.00873606,\n",
       "       0.08492132, 0.06558419, 0.00593097, 0.09632441, 0.07800422,\n",
       "       0.07782631, 0.20284472, 0.0182598 , 0.03234378, 0.00930195,\n",
       "       0.00403785, 0.12214539, 0.24353144, 0.0920494 , 0.01577078,\n",
       "       0.02391129, 0.03190905, 0.01519502, 0.06308002, 0.00817681,\n",
       "       0.009229  , 0.02075383, 0.01794425, 0.00737042, 0.0493442 ,\n",
       "       0.0147297 , 0.00406096, 0.01720764, 0.00349684, 0.00506404,\n",
       "       0.06361758, 0.03393598, 0.01172044, 0.01590697, 0.00401802,\n",
       "       0.07791952, 0.00422129, 0.0039885 , 0.0165572 , 0.00630133,\n",
       "       0.15713273, 0.02774639, 0.04348562, 0.01145388, 0.00949441,\n",
       "       0.06821158, 0.00851884, 0.04240294, 0.02329535, 0.02784842,\n",
       "       0.00484233, 0.07937529, 0.04077928, 0.00731448, 0.03217433,\n",
       "       0.14770746, 0.04137747, 0.03067961, 0.01202224, 0.09435755,\n",
       "       0.02384482, 0.1317882 , 0.00348678, 0.04022414, 0.06799968,\n",
       "       0.02538195, 0.42006522, 0.0467018 , 0.24066692, 0.09319735,\n",
       "       0.04222878, 0.05196981, 0.07274516, 0.00633818, 0.01361694,\n",
       "       0.0267515 , 0.02907788, 0.04196478, 0.00532738, 0.03333217,\n",
       "       0.26283096, 0.01169466, 0.00952428, 0.01069453, 0.01136356,\n",
       "       0.10090466, 0.00567991, 0.00933797, 0.06966624, 0.00963649,\n",
       "       0.01560951, 0.04935567, 0.00316625, 0.02908304, 0.18608728,\n",
       "       0.00579403, 0.00431495, 0.00743775, 0.01043415, 0.2470357 ,\n",
       "       0.049067  , 0.12407641, 0.03257104, 0.0887643 , 0.05068773,\n",
       "       0.03656287, 0.06090184, 0.06642016, 0.04227092, 0.05321561,\n",
       "       0.0633362 , 0.278444  , 0.00445786, 0.02402654, 0.18010584,\n",
       "       0.00747142, 0.04840298, 0.03451992, 0.02739189, 0.01298822,\n",
       "       0.048174  , 0.03199672, 0.01170636, 0.0082159 , 0.05198246,\n",
       "       0.01766199, 0.00887004, 0.00730549, 0.19141188, 0.03933176,\n",
       "       0.07490386, 0.0059017 , 0.07991423, 0.14831386, 0.00890999,\n",
       "       0.00372731, 0.00649459, 0.0044665 , 0.00497192, 0.02549537,\n",
       "       0.00590979, 0.00374415, 0.00370548, 0.04108964, 0.13262913,\n",
       "       0.16055218, 0.0059654 , 0.01347803, 0.11743819, 0.05896263,\n",
       "       0.00463797, 0.00567609, 0.00594583, 0.296175  , 0.27797746,\n",
       "       0.01425509, 0.02331163, 0.12852385, 0.07881087, 0.14715327,\n",
       "       0.11078563, 0.00703871, 0.00427056, 0.20675625, 0.01539287,\n",
       "       0.03656911, 0.13876543, 0.00400214, 0.03481978, 0.00930197,\n",
       "       0.05499524, 0.01243485, 0.00609245, 0.03505575, 0.0039035 ,\n",
       "       0.01021478, 0.0056732 , 0.01236264, 0.13251567, 0.15262747,\n",
       "       0.00429315, 0.23243975, 0.34505284, 0.00374715, 0.16297979,\n",
       "       0.17968073, 0.00367365, 0.00433684, 0.05215019, 0.02749726,\n",
       "       0.17619124, 0.01133544, 0.18621538, 0.17369175, 0.01118943,\n",
       "       0.01918137, 0.01267198, 0.13363915, 0.11359488, 0.00572593,\n",
       "       0.00851832, 0.01589761, 0.05704113, 0.00464766, 0.00923009,\n",
       "       0.13006159, 0.03278503, 0.03695541, 0.05945519, 0.00540523,\n",
       "       0.13726286, 0.03640479, 0.00565294, 0.00894755, 0.01646092,\n",
       "       0.0046223 , 0.00542211, 0.01698588, 0.07727103, 0.01366635,\n",
       "       0.0373689 , 0.01866481, 0.0112919 , 0.00869531, 0.0136174 ,\n",
       "       0.00531916, 0.00732684, 0.02357848, 0.0041071 , 0.0331616 ,\n",
       "       0.09293312, 0.00569493, 0.00818083, 0.00414349, 0.01363138,\n",
       "       0.00469038, 0.00383596, 0.0046601 , 0.00356462, 0.07651635,\n",
       "       0.00940589, 0.01901553, 0.18334875, 0.04156719, 0.01519306,\n",
       "       0.00957122, 0.27171786, 0.03857412, 0.04253026, 0.04260163,\n",
       "       0.00332516, 0.05789371, 0.00963471, 0.03291141, 0.05449429,\n",
       "       0.00358823, 0.00452964, 0.31708645, 0.02730346, 0.0358564 ,\n",
       "       0.10524087, 0.16710554, 0.05041096, 0.03199117, 0.24244349,\n",
       "       0.00365639, 0.0142731 , 0.01560273, 0.010742  , 0.03343224,\n",
       "       0.23451065, 0.00444092, 0.01008703, 0.00383127, 0.00495686,\n",
       "       0.0428617 , 0.0067961 , 0.00621167, 0.12527953, 0.09816594,\n",
       "       0.0048785 , 0.0421035 , 0.11254339, 0.05388972, 0.00796438,\n",
       "       0.01191142, 0.00535374, 0.00533541, 0.05506508, 0.00478863,\n",
       "       0.15501731, 0.00387136, 0.21752879, 0.00959855, 0.02013148,\n",
       "       0.0418108 , 0.0587664 , 0.13398991, 0.00644079, 0.0103043 ,\n",
       "       0.00450163, 0.00442875, 0.1183426 , 0.02237853, 0.10293827,\n",
       "       0.01920721, 0.03039515, 0.12094706, 0.00296767, 0.2067533 ,\n",
       "       0.1771583 , 0.0786063 , 0.05334161, 0.00363075, 0.20711674,\n",
       "       0.24467282, 0.0329559 , 0.35095869, 0.05443482, 0.17669885,\n",
       "       0.00768563, 0.00597323, 0.02744269, 0.2017013 , 0.06492093,\n",
       "       0.00532046, 0.00538525, 0.0172942 , 0.00530607, 0.00759282,\n",
       "       0.20561681, 0.00713857, 0.00799051, 0.00473096, 0.10862472,\n",
       "       0.00613061, 0.00427833, 0.00643248, 0.00329671, 0.00421935,\n",
       "       0.0039529 , 0.0369799 , 0.01903048, 0.05155874, 0.00826949,\n",
       "       0.18434144, 0.23406899, 0.03426266, 0.04209501, 0.03065368,\n",
       "       0.00689229, 0.25394103, 0.06924641, 0.01279061, 0.06585464,\n",
       "       0.00581433, 0.00652308, 0.12989805, 0.06471808, 0.14829997,\n",
       "       0.00395012, 0.02915949, 0.34613395, 0.22805808, 0.00324024,\n",
       "       0.02242432, 0.00610087, 0.01588031, 0.0051677 , 0.02870772,\n",
       "       0.3648762 , 0.05003083, 0.08599816, 0.01099403, 0.01339423,\n",
       "       0.00575945, 0.00331525, 0.00787433, 0.01100011, 0.00915745,\n",
       "       0.0141869 , 0.00728781, 0.01499062, 0.04782603, 0.02134153,\n",
       "       0.00614437, 0.00580298, 0.01641735, 0.01169774, 0.01784951,\n",
       "       0.00771512, 0.0501937 , 0.00711155, 0.00789679, 0.03503029,\n",
       "       0.12533245, 0.0049927 , 0.01724212, 0.0115156 , 0.01585833,\n",
       "       0.02111329, 0.01283016, 0.02380369, 0.00360932, 0.06334407,\n",
       "       0.00400479, 0.00305205, 0.0682864 , 0.00593413, 0.06758409,\n",
       "       0.06133481, 0.0111813 , 0.09527483, 0.01544902, 0.0416197 ,\n",
       "       0.00385626, 0.01762309, 0.02908034, 0.00672908, 0.01362832,\n",
       "       0.07749393, 0.00736687, 0.00799124, 0.03144636, 0.03001119,\n",
       "       0.02082509, 0.00428523, 0.00794561, 0.00288804, 0.01889922,\n",
       "       0.03635214, 0.05345617, 0.00940196, 0.1071193 , 0.00593394,\n",
       "       0.37249212, 0.2651991 , 0.00351172, 0.22629273, 0.04674621,\n",
       "       0.00872983, 0.01629212, 0.22481176, 0.08507719, 0.03714085,\n",
       "       0.00667246, 0.35323331, 0.03406067, 0.03720132, 0.00427122,\n",
       "       0.12435042, 0.04914396, 0.00459509, 0.0174915 , 0.2233109 ,\n",
       "       0.01065637, 0.1343477 , 0.1423979 , 0.00935939, 0.0272097 ,\n",
       "       0.19560258, 0.16854411, 0.00698053, 0.1172706 , 0.15945598,\n",
       "       0.01024828, 0.12758073, 0.02083988, 0.02337477, 0.02812789,\n",
       "       0.05156947, 0.02349245, 0.21710813, 0.07620929, 0.04726484,\n",
       "       0.00439708, 0.04949837, 0.15235648, 0.00630874, 0.01101905,\n",
       "       0.06589966, 0.00496035, 0.03804449, 0.09054036, 0.03530901,\n",
       "       0.00487723, 0.05797623, 0.00798526, 0.00354082, 0.07394811,\n",
       "       0.07827541, 0.01257115, 0.0710523 , 0.00743043, 0.12520401,\n",
       "       0.02833885, 0.01889896, 0.01368721, 0.02969514, 0.0254523 ,\n",
       "       0.03171771, 0.02269103, 0.00490088, 0.01111668, 0.01545388,\n",
       "       0.05393579, 0.13441107, 0.00528003, 0.13942125, 0.00673254,\n",
       "       0.00537093, 0.06180835, 0.0522178 , 0.29545076, 0.07977363,\n",
       "       0.00767928, 0.01311546, 0.00487507, 0.01318266, 0.03533658,\n",
       "       0.06782425, 0.01158582, 0.00419072, 0.01459531, 0.0193209 ,\n",
       "       0.01615415, 0.00419317, 0.0046012 , 0.07686555, 0.00483969,\n",
       "       0.00526041, 0.00394772, 0.00463448, 0.01178369, 0.02118342,\n",
       "       0.18518241, 0.15738105, 0.05574922, 0.00978317, 0.01210997,\n",
       "       0.0365773 , 0.00392046, 0.09181906, 0.02387581, 0.13057369,\n",
       "       0.00390974, 0.06550345, 0.01649802, 0.00567163, 0.1678894 ,\n",
       "       0.0193822 , 0.008282  , 0.00937519, 0.07102375, 0.01297565,\n",
       "       0.04652355, 0.00421147, 0.06349953, 0.11164831, 0.18619313,\n",
       "       0.01715694, 0.01396609, 0.00675801, 0.09005182, 0.1675924 ,\n",
       "       0.05007515, 0.0229251 , 0.03135416, 0.00707128, 0.0051008 ,\n",
       "       0.02793494, 0.00768584, 0.00543277, 0.01511834, 0.02975734,\n",
       "       0.2664605 , 0.01384831, 0.00954285, 0.00805592, 0.00613354,\n",
       "       0.11280651, 0.02339781, 0.21396476, 0.1962723 , 0.12010842,\n",
       "       0.00406253, 0.02597553, 0.0383883 , 0.00828712, 0.01505418,\n",
       "       0.01522887, 0.0054681 , 0.18623462, 0.27807314, 0.03864179,\n",
       "       0.00593199, 0.00453439, 0.00718656, 0.00418784, 0.0102457 ,\n",
       "       0.0071047 , 0.00460184, 0.01511761, 0.03921089, 0.00742659,\n",
       "       0.01848354, 0.00908539, 0.15388323, 0.15680767, 0.05356607,\n",
       "       0.03789191, 0.15465806, 0.0493243 , 0.00383211, 0.00523112,\n",
       "       0.00582204, 0.00537931, 0.05529149, 0.03344024, 0.25061363,\n",
       "       0.01375076, 0.06133955, 0.00503624, 0.00464367, 0.08584439,\n",
       "       0.00508495, 0.06524252, 0.00378562, 0.01843061, 0.02246411,\n",
       "       0.0035768 , 0.00447936, 0.00370237, 0.04194489, 0.02876394,\n",
       "       0.03301735, 0.00790502, 0.07926409, 0.0692231 , 0.08356437,\n",
       "       0.00400057, 0.0086712 , 0.00834412, 0.07036586, 0.05701229,\n",
       "       0.11512735, 0.16570294, 0.03343004, 0.00518856, 0.00624949,\n",
       "       0.00490937, 0.19310338, 0.03160184, 0.09745641, 0.16245347,\n",
       "       0.03159036, 0.01693454, 0.0036663 , 0.03229992, 0.07255002,\n",
       "       0.05202898, 0.22519935, 0.00530724, 0.10239067, 0.02813447,\n",
       "       0.109017  , 0.04905568, 0.00587848, 0.03820953, 0.0486707 ,\n",
       "       0.047301  , 0.00440637, 0.00414187, 0.25313574, 0.00560815,\n",
       "       0.00334393, 0.00817109, 0.3592371 , 0.1811565 , 0.12713179,\n",
       "       0.1917234 , 0.0060793 , 0.03799972, 0.13824155, 0.12683421,\n",
       "       0.00545569, 0.15452173, 0.04183556, 0.01075907, 0.00552473,\n",
       "       0.34341118, 0.01428759, 0.00586866, 0.0046535 , 0.03101772,\n",
       "       0.00540737, 0.02901661, 0.00361517, 0.02798786, 0.01117777,\n",
       "       0.01579836, 0.06001921, 0.30467004, 0.04326341, 0.00627433,\n",
       "       0.00503275, 0.1565847 , 0.04643947, 0.07301855, 0.01493795,\n",
       "       0.00388813, 0.03294771, 0.01423971, 0.019713  , 0.0311321 ,\n",
       "       0.05819542, 0.12612015, 0.04218142, 0.01463639, 0.0056733 ,\n",
       "       0.00353274])"
      ]
     },
     "execution_count": 78,
     "metadata": {},
     "output_type": "execute_result"
    }
   ],
   "source": [
    "y_pred = model.predict_proba(X_val)[:, 1]\n",
    "y_pred"
   ]
  },
  {
   "cell_type": "code",
   "execution_count": 79,
   "id": "76bf187c",
   "metadata": {},
   "outputs": [],
   "source": [
    "may_stroke = (y_pred >=0.5)"
   ]
  },
  {
   "cell_type": "code",
   "execution_count": 80,
   "id": "a4dcf52b",
   "metadata": {},
   "outputs": [
    {
     "data": {
      "text/plain": [
       "array([ True,  True,  True,  True,  True,  True,  True,  True, False,\n",
       "        True,  True,  True,  True,  True,  True,  True,  True,  True,\n",
       "        True,  True,  True,  True,  True,  True,  True,  True, False,\n",
       "        True,  True,  True,  True,  True,  True,  True,  True,  True,\n",
       "        True,  True,  True,  True,  True,  True,  True,  True,  True,\n",
       "        True,  True,  True,  True,  True,  True,  True,  True,  True,\n",
       "        True,  True,  True,  True,  True,  True,  True,  True,  True,\n",
       "        True,  True,  True,  True,  True,  True,  True,  True,  True,\n",
       "        True,  True,  True,  True,  True,  True,  True,  True,  True,\n",
       "        True,  True,  True,  True,  True,  True,  True,  True,  True,\n",
       "       False,  True,  True,  True,  True,  True,  True, False, False,\n",
       "        True,  True,  True,  True,  True,  True,  True,  True,  True,\n",
       "        True,  True,  True,  True,  True,  True,  True,  True,  True,\n",
       "        True,  True,  True,  True,  True,  True,  True,  True,  True,\n",
       "        True,  True,  True,  True,  True, False,  True,  True,  True,\n",
       "        True,  True,  True,  True,  True,  True,  True,  True,  True,\n",
       "        True,  True,  True,  True,  True,  True,  True,  True,  True,\n",
       "        True,  True,  True,  True,  True,  True,  True,  True,  True,\n",
       "        True,  True,  True,  True,  True,  True,  True,  True,  True,\n",
       "        True,  True,  True,  True,  True,  True,  True,  True,  True,\n",
       "        True,  True,  True,  True,  True,  True,  True,  True,  True,\n",
       "        True,  True,  True,  True,  True,  True,  True,  True,  True,\n",
       "        True,  True,  True,  True,  True,  True,  True,  True,  True,\n",
       "        True,  True,  True,  True,  True,  True,  True,  True,  True,\n",
       "        True,  True,  True,  True,  True,  True,  True,  True,  True,\n",
       "        True,  True,  True,  True,  True,  True,  True,  True,  True,\n",
       "        True,  True,  True,  True,  True,  True,  True,  True,  True,\n",
       "        True,  True,  True,  True,  True,  True,  True,  True,  True,\n",
       "        True,  True,  True,  True,  True,  True,  True,  True,  True,\n",
       "        True,  True,  True,  True,  True,  True,  True,  True,  True,\n",
       "        True,  True,  True,  True,  True,  True,  True,  True,  True,\n",
       "        True,  True, False,  True,  True,  True,  True,  True,  True,\n",
       "        True,  True,  True,  True,  True,  True,  True,  True,  True,\n",
       "        True,  True,  True,  True,  True,  True,  True,  True,  True,\n",
       "        True,  True,  True,  True,  True,  True,  True,  True,  True,\n",
       "        True,  True,  True,  True,  True,  True,  True,  True,  True,\n",
       "        True,  True,  True,  True,  True,  True,  True,  True,  True,\n",
       "        True,  True,  True,  True,  True,  True,  True,  True, False,\n",
       "        True,  True,  True,  True,  True,  True,  True,  True,  True,\n",
       "        True,  True,  True,  True,  True,  True,  True,  True,  True,\n",
       "        True,  True,  True,  True,  True,  True,  True,  True,  True,\n",
       "        True,  True,  True,  True,  True,  True,  True,  True,  True,\n",
       "        True,  True,  True,  True,  True, False,  True,  True,  True,\n",
       "        True,  True, False,  True,  True,  True,  True,  True,  True,\n",
       "        True,  True,  True,  True,  True,  True,  True,  True,  True,\n",
       "        True,  True,  True,  True,  True,  True,  True,  True,  True,\n",
       "        True,  True,  True,  True,  True,  True,  True,  True,  True,\n",
       "       False,  True,  True,  True,  True,  True,  True,  True,  True,\n",
       "        True,  True, False,  True,  True,  True,  True,  True,  True,\n",
       "        True,  True,  True,  True,  True,  True,  True,  True,  True,\n",
       "        True,  True,  True,  True,  True,  True,  True,  True,  True,\n",
       "        True,  True,  True,  True,  True,  True,  True,  True, False,\n",
       "        True,  True,  True,  True,  True,  True,  True,  True,  True,\n",
       "        True,  True,  True,  True,  True,  True,  True,  True, False,\n",
       "        True,  True,  True,  True,  True,  True,  True,  True,  True,\n",
       "        True,  True,  True,  True,  True,  True,  True,  True,  True,\n",
       "       False,  True,  True,  True,  True,  True,  True,  True,  True,\n",
       "        True,  True,  True,  True,  True,  True,  True,  True,  True,\n",
       "        True,  True,  True,  True,  True,  True,  True,  True,  True,\n",
       "        True,  True,  True,  True,  True,  True, False,  True,  True,\n",
       "        True,  True,  True,  True,  True,  True,  True,  True,  True,\n",
       "        True,  True,  True,  True,  True,  True,  True,  True,  True,\n",
       "        True,  True,  True,  True,  True,  True,  True,  True,  True,\n",
       "        True,  True,  True,  True,  True,  True,  True,  True,  True,\n",
       "        True,  True,  True,  True,  True,  True,  True,  True, False,\n",
       "       False,  True,  True,  True,  True,  True,  True,  True,  True,\n",
       "        True,  True,  True,  True,  True,  True,  True,  True,  True,\n",
       "        True,  True,  True,  True,  True,  True,  True,  True,  True,\n",
       "        True,  True,  True,  True,  True,  True,  True,  True,  True,\n",
       "        True,  True,  True,  True,  True,  True,  True,  True,  True,\n",
       "        True,  True, False,  True,  True,  True,  True,  True,  True,\n",
       "        True,  True,  True,  True,  True,  True,  True,  True,  True,\n",
       "        True,  True,  True,  True,  True,  True,  True,  True,  True,\n",
       "        True,  True,  True,  True,  True,  True,  True,  True,  True,\n",
       "        True,  True,  True,  True,  True,  True,  True,  True,  True,\n",
       "        True,  True,  True,  True,  True,  True,  True,  True,  True,\n",
       "        True,  True,  True,  True,  True,  True,  True,  True,  True,\n",
       "        True,  True,  True,  True,  True,  True,  True,  True,  True,\n",
       "        True,  True,  True,  True,  True,  True,  True,  True,  True,\n",
       "        True,  True,  True,  True,  True,  True,  True,  True,  True,\n",
       "        True,  True,  True,  True,  True,  True,  True,  True,  True,\n",
       "        True,  True,  True,  True,  True,  True,  True,  True,  True,\n",
       "        True,  True,  True,  True,  True,  True,  True, False,  True,\n",
       "        True,  True,  True,  True,  True,  True,  True,  True,  True,\n",
       "        True,  True,  True,  True,  True,  True,  True,  True,  True,\n",
       "        True,  True,  True,  True,  True,  True,  True,  True,  True,\n",
       "        True,  True,  True,  True,  True,  True,  True,  True,  True,\n",
       "       False,  True,  True,  True,  True,  True, False,  True,  True,\n",
       "        True,  True,  True,  True,  True,  True,  True,  True,  True,\n",
       "        True,  True,  True,  True,  True,  True,  True,  True,  True,\n",
       "       False,  True,  True,  True,  True,  True,  True,  True,  True,\n",
       "       False,  True,  True,  True,  True,  True,  True,  True,  True,\n",
       "        True,  True,  True,  True,  True,  True,  True,  True,  True,\n",
       "        True,  True,  True,  True,  True,  True,  True,  True,  True,\n",
       "        True,  True,  True,  True, False,  True,  True,  True,  True,\n",
       "       False,  True,  True,  True,  True,  True,  True,  True,  True,\n",
       "        True,  True,  True,  True,  True,  True,  True,  True,  True,\n",
       "        True,  True,  True,  True,  True,  True,  True,  True,  True,\n",
       "        True,  True,  True,  True, False,  True,  True,  True,  True,\n",
       "        True,  True,  True,  True,  True,  True,  True,  True,  True,\n",
       "        True,  True,  True,  True,  True,  True,  True,  True,  True,\n",
       "        True,  True,  True,  True,  True,  True,  True,  True,  True,\n",
       "        True,  True,  True,  True,  True,  True,  True,  True,  True,\n",
       "        True,  True,  True,  True,  True,  True,  True,  True,  True,\n",
       "        True,  True,  True,  True,  True,  True,  True,  True,  True,\n",
       "        True,  True,  True,  True,  True,  True,  True,  True,  True,\n",
       "       False,  True,  True,  True,  True,  True,  True,  True,  True,\n",
       "        True,  True,  True,  True,  True,  True,  True,  True,  True,\n",
       "        True,  True,  True,  True,  True,  True,  True,  True,  True,\n",
       "        True,  True,  True,  True,  True,  True,  True,  True,  True,\n",
       "        True,  True,  True,  True,  True,  True])"
      ]
     },
     "execution_count": 80,
     "metadata": {},
     "output_type": "execute_result"
    }
   ],
   "source": [
    "y_val == may_stroke"
   ]
  },
  {
   "cell_type": "code",
   "execution_count": 81,
   "id": "73e4b301",
   "metadata": {},
   "outputs": [
    {
     "data": {
      "text/plain": [
       "0.9718875502008032"
      ]
     },
     "execution_count": 81,
     "metadata": {},
     "output_type": "execute_result"
    }
   ],
   "source": [
    "(y_val == may_stroke).mean()"
   ]
  },
  {
   "cell_type": "code",
   "execution_count": 82,
   "id": "d483ed81",
   "metadata": {},
   "outputs": [],
   "source": [
    "df_pred = pd.DataFrame()\n",
    "df_pred['probability'] = y_pred\n",
    "df_pred['prediction'] = may_stroke.astype(int)\n",
    "df_pred['actual'] = y_val\n",
    "df_pred['correct'] = df_pred.prediction == df_pred.actual"
   ]
  },
  {
   "cell_type": "code",
   "execution_count": 83,
   "id": "8fc4708b",
   "metadata": {},
   "outputs": [
    {
     "data": {
      "text/html": [
       "<div>\n",
       "<style scoped>\n",
       "    .dataframe tbody tr th:only-of-type {\n",
       "        vertical-align: middle;\n",
       "    }\n",
       "\n",
       "    .dataframe tbody tr th {\n",
       "        vertical-align: top;\n",
       "    }\n",
       "\n",
       "    .dataframe thead th {\n",
       "        text-align: right;\n",
       "    }\n",
       "</style>\n",
       "<table border=\"1\" class=\"dataframe\">\n",
       "  <thead>\n",
       "    <tr style=\"text-align: right;\">\n",
       "      <th></th>\n",
       "      <th>probability</th>\n",
       "      <th>prediction</th>\n",
       "      <th>actual</th>\n",
       "      <th>correct</th>\n",
       "    </tr>\n",
       "  </thead>\n",
       "  <tbody>\n",
       "    <tr>\n",
       "      <th>0</th>\n",
       "      <td>0.041180</td>\n",
       "      <td>0</td>\n",
       "      <td>0</td>\n",
       "      <td>True</td>\n",
       "    </tr>\n",
       "    <tr>\n",
       "      <th>1</th>\n",
       "      <td>0.013386</td>\n",
       "      <td>0</td>\n",
       "      <td>0</td>\n",
       "      <td>True</td>\n",
       "    </tr>\n",
       "    <tr>\n",
       "      <th>2</th>\n",
       "      <td>0.004814</td>\n",
       "      <td>0</td>\n",
       "      <td>0</td>\n",
       "      <td>True</td>\n",
       "    </tr>\n",
       "    <tr>\n",
       "      <th>3</th>\n",
       "      <td>0.015760</td>\n",
       "      <td>0</td>\n",
       "      <td>0</td>\n",
       "      <td>True</td>\n",
       "    </tr>\n",
       "    <tr>\n",
       "      <th>4</th>\n",
       "      <td>0.048220</td>\n",
       "      <td>0</td>\n",
       "      <td>0</td>\n",
       "      <td>True</td>\n",
       "    </tr>\n",
       "    <tr>\n",
       "      <th>...</th>\n",
       "      <td>...</td>\n",
       "      <td>...</td>\n",
       "      <td>...</td>\n",
       "      <td>...</td>\n",
       "    </tr>\n",
       "    <tr>\n",
       "      <th>991</th>\n",
       "      <td>0.126120</td>\n",
       "      <td>0</td>\n",
       "      <td>0</td>\n",
       "      <td>True</td>\n",
       "    </tr>\n",
       "    <tr>\n",
       "      <th>992</th>\n",
       "      <td>0.042181</td>\n",
       "      <td>0</td>\n",
       "      <td>0</td>\n",
       "      <td>True</td>\n",
       "    </tr>\n",
       "    <tr>\n",
       "      <th>993</th>\n",
       "      <td>0.014636</td>\n",
       "      <td>0</td>\n",
       "      <td>0</td>\n",
       "      <td>True</td>\n",
       "    </tr>\n",
       "    <tr>\n",
       "      <th>994</th>\n",
       "      <td>0.005673</td>\n",
       "      <td>0</td>\n",
       "      <td>0</td>\n",
       "      <td>True</td>\n",
       "    </tr>\n",
       "    <tr>\n",
       "      <th>995</th>\n",
       "      <td>0.003533</td>\n",
       "      <td>0</td>\n",
       "      <td>0</td>\n",
       "      <td>True</td>\n",
       "    </tr>\n",
       "  </tbody>\n",
       "</table>\n",
       "<p>996 rows × 4 columns</p>\n",
       "</div>"
      ],
      "text/plain": [
       "     probability  prediction  actual  correct\n",
       "0       0.041180           0       0     True\n",
       "1       0.013386           0       0     True\n",
       "2       0.004814           0       0     True\n",
       "3       0.015760           0       0     True\n",
       "4       0.048220           0       0     True\n",
       "..           ...         ...     ...      ...\n",
       "991     0.126120           0       0     True\n",
       "992     0.042181           0       0     True\n",
       "993     0.014636           0       0     True\n",
       "994     0.005673           0       0     True\n",
       "995     0.003533           0       0     True\n",
       "\n",
       "[996 rows x 4 columns]"
      ]
     },
     "execution_count": 83,
     "metadata": {},
     "output_type": "execute_result"
    }
   ],
   "source": [
    "df_pred"
   ]
  },
  {
   "cell_type": "code",
   "execution_count": 84,
   "id": "ca8f3eef",
   "metadata": {},
   "outputs": [
    {
     "data": {
      "text/plain": [
       "0.9718875502008032"
      ]
     },
     "execution_count": 84,
     "metadata": {},
     "output_type": "execute_result"
    }
   ],
   "source": [
    "df_pred.correct.mean()"
   ]
  },
  {
   "cell_type": "code",
   "execution_count": 85,
   "id": "7eb2a725",
   "metadata": {},
   "outputs": [
    {
     "data": {
      "text/plain": [
       "0.9718875502008032"
      ]
     },
     "execution_count": 85,
     "metadata": {},
     "output_type": "execute_result"
    }
   ],
   "source": [
    "df_pred.correct.astype('int').mean()"
   ]
  },
  {
   "cell_type": "markdown",
   "id": "9e7a02fb",
   "metadata": {},
   "source": [
    "## Model intepretation\n",
    "- Look at the coefficients\n",
    "- Train a smaller model with fewer features"
   ]
  },
  {
   "cell_type": "code",
   "execution_count": 86,
   "id": "865d8a7d",
   "metadata": {},
   "outputs": [
    {
     "data": {
      "text/plain": [
       "{'age': 0.063,\n",
       " 'avg_glucose_level': 0.005,\n",
       " 'bmi': -0.001,\n",
       " 'ever_married=no': -1.042,\n",
       " 'ever_married=yes': -1.22,\n",
       " 'gender=female': -1.122,\n",
       " 'gender=male': -1.14,\n",
       " 'heart_disease': 0.384,\n",
       " 'hypertension': 0.382,\n",
       " 'residence_type=rural': -1.188,\n",
       " 'residence_type=urban': -1.074,\n",
       " 'smoking_status=formerly_smoked': -0.678,\n",
       " 'smoking_status=never_smoked': -0.771,\n",
       " 'smoking_status=smokes': -0.207,\n",
       " 'smoking_status=unknown': -0.606,\n",
       " 'work_type=children': 0.026,\n",
       " 'work_type=govt_job': -0.727,\n",
       " 'work_type=private': -0.614,\n",
       " 'work_type=self-employed': -0.947}"
      ]
     },
     "execution_count": 86,
     "metadata": {},
     "output_type": "execute_result"
    }
   ],
   "source": [
    "dict(zip(dv.get_feature_names_out(), model.coef_[0].round(3)))"
   ]
  },
  {
   "cell_type": "code",
   "execution_count": 87,
   "id": "0c5d64b7",
   "metadata": {},
   "outputs": [
    {
     "data": {
      "text/plain": [
       "[{'ever_married': 'yes',\n",
       "  'heart_disease': 0,\n",
       "  'work_type': 'self-employed',\n",
       "  'hypertension': 0,\n",
       "  'age': 59.0,\n",
       "  'avg_glucose_level': 81.64},\n",
       " {'ever_married': 'yes',\n",
       "  'heart_disease': 0,\n",
       "  'work_type': 'private',\n",
       "  'hypertension': 0,\n",
       "  'age': 47.0,\n",
       "  'avg_glucose_level': 204.63},\n",
       " {'ever_married': 'no',\n",
       "  'heart_disease': 0,\n",
       "  'work_type': 'govt_job',\n",
       "  'hypertension': 0,\n",
       "  'age': 34.0,\n",
       "  'avg_glucose_level': 226.28},\n",
       " {'ever_married': 'yes',\n",
       "  'heart_disease': 0,\n",
       "  'work_type': 'self-employed',\n",
       "  'hypertension': 1,\n",
       "  'age': 80.0,\n",
       "  'avg_glucose_level': 213.33},\n",
       " {'ever_married': 'yes',\n",
       "  'heart_disease': 0,\n",
       "  'work_type': 'private',\n",
       "  'hypertension': 1,\n",
       "  'age': 36.0,\n",
       "  'avg_glucose_level': 91.56},\n",
       " {'ever_married': 'yes',\n",
       "  'heart_disease': 0,\n",
       "  'work_type': 'private',\n",
       "  'hypertension': 0,\n",
       "  'age': 32.0,\n",
       "  'avg_glucose_level': 71.5},\n",
       " {'ever_married': 'no',\n",
       "  'heart_disease': 0,\n",
       "  'work_type': 'children',\n",
       "  'hypertension': 0,\n",
       "  'age': 7.0,\n",
       "  'avg_glucose_level': 113.95},\n",
       " {'ever_married': 'no',\n",
       "  'heart_disease': 0,\n",
       "  'work_type': 'children',\n",
       "  'hypertension': 0,\n",
       "  'age': 3.0,\n",
       "  'avg_glucose_level': 81.0},\n",
       " {'ever_married': 'yes',\n",
       "  'heart_disease': 0,\n",
       "  'work_type': 'govt_job',\n",
       "  'hypertension': 0,\n",
       "  'age': 54.0,\n",
       "  'avg_glucose_level': 87.85},\n",
       " {'ever_married': 'yes',\n",
       "  'heart_disease': 1,\n",
       "  'work_type': 'self-employed',\n",
       "  'hypertension': 1,\n",
       "  'age': 73.0,\n",
       "  'avg_glucose_level': 230.68}]"
      ]
     },
     "execution_count": 87,
     "metadata": {},
     "output_type": "execute_result"
    }
   ],
   "source": [
    "small = ['ever_married', 'heart_disease', 'work_type', 'hypertension', 'age', 'avg_glucose_level']\n",
    "\n",
    "df_train[small].iloc[:10].to_dict(orient='records')"
   ]
  },
  {
   "cell_type": "code",
   "execution_count": 88,
   "id": "863b5f9e",
   "metadata": {},
   "outputs": [],
   "source": [
    "dicts_train_small = df_train[small].to_dict(orient='records')\n",
    "dicts_val_small = df_val[small].to_dict(orient='records')"
   ]
  },
  {
   "cell_type": "code",
   "execution_count": 89,
   "id": "3d66bf5a",
   "metadata": {},
   "outputs": [
    {
     "data": {
      "text/html": [
       "<style>#sk-container-id-5 {color: black;}#sk-container-id-5 pre{padding: 0;}#sk-container-id-5 div.sk-toggleable {background-color: white;}#sk-container-id-5 label.sk-toggleable__label {cursor: pointer;display: block;width: 100%;margin-bottom: 0;padding: 0.3em;box-sizing: border-box;text-align: center;}#sk-container-id-5 label.sk-toggleable__label-arrow:before {content: \"▸\";float: left;margin-right: 0.25em;color: #696969;}#sk-container-id-5 label.sk-toggleable__label-arrow:hover:before {color: black;}#sk-container-id-5 div.sk-estimator:hover label.sk-toggleable__label-arrow:before {color: black;}#sk-container-id-5 div.sk-toggleable__content {max-height: 0;max-width: 0;overflow: hidden;text-align: left;background-color: #f0f8ff;}#sk-container-id-5 div.sk-toggleable__content pre {margin: 0.2em;color: black;border-radius: 0.25em;background-color: #f0f8ff;}#sk-container-id-5 input.sk-toggleable__control:checked~div.sk-toggleable__content {max-height: 200px;max-width: 100%;overflow: auto;}#sk-container-id-5 input.sk-toggleable__control:checked~label.sk-toggleable__label-arrow:before {content: \"▾\";}#sk-container-id-5 div.sk-estimator input.sk-toggleable__control:checked~label.sk-toggleable__label {background-color: #d4ebff;}#sk-container-id-5 div.sk-label input.sk-toggleable__control:checked~label.sk-toggleable__label {background-color: #d4ebff;}#sk-container-id-5 input.sk-hidden--visually {border: 0;clip: rect(1px 1px 1px 1px);clip: rect(1px, 1px, 1px, 1px);height: 1px;margin: -1px;overflow: hidden;padding: 0;position: absolute;width: 1px;}#sk-container-id-5 div.sk-estimator {font-family: monospace;background-color: #f0f8ff;border: 1px dotted black;border-radius: 0.25em;box-sizing: border-box;margin-bottom: 0.5em;}#sk-container-id-5 div.sk-estimator:hover {background-color: #d4ebff;}#sk-container-id-5 div.sk-parallel-item::after {content: \"\";width: 100%;border-bottom: 1px solid gray;flex-grow: 1;}#sk-container-id-5 div.sk-label:hover label.sk-toggleable__label {background-color: #d4ebff;}#sk-container-id-5 div.sk-serial::before {content: \"\";position: absolute;border-left: 1px solid gray;box-sizing: border-box;top: 0;bottom: 0;left: 50%;z-index: 0;}#sk-container-id-5 div.sk-serial {display: flex;flex-direction: column;align-items: center;background-color: white;padding-right: 0.2em;padding-left: 0.2em;position: relative;}#sk-container-id-5 div.sk-item {position: relative;z-index: 1;}#sk-container-id-5 div.sk-parallel {display: flex;align-items: stretch;justify-content: center;background-color: white;position: relative;}#sk-container-id-5 div.sk-item::before, #sk-container-id-5 div.sk-parallel-item::before {content: \"\";position: absolute;border-left: 1px solid gray;box-sizing: border-box;top: 0;bottom: 0;left: 50%;z-index: -1;}#sk-container-id-5 div.sk-parallel-item {display: flex;flex-direction: column;z-index: 1;position: relative;background-color: white;}#sk-container-id-5 div.sk-parallel-item:first-child::after {align-self: flex-end;width: 50%;}#sk-container-id-5 div.sk-parallel-item:last-child::after {align-self: flex-start;width: 50%;}#sk-container-id-5 div.sk-parallel-item:only-child::after {width: 0;}#sk-container-id-5 div.sk-dashed-wrapped {border: 1px dashed gray;margin: 0 0.4em 0.5em 0.4em;box-sizing: border-box;padding-bottom: 0.4em;background-color: white;}#sk-container-id-5 div.sk-label label {font-family: monospace;font-weight: bold;display: inline-block;line-height: 1.2em;}#sk-container-id-5 div.sk-label-container {text-align: center;}#sk-container-id-5 div.sk-container {/* jupyter's `normalize.less` sets `[hidden] { display: none; }` but bootstrap.min.css set `[hidden] { display: none !important; }` so we also need the `!important` here to be able to override the default hidden behavior on the sphinx rendered scikit-learn.org. See: https://github.com/scikit-learn/scikit-learn/issues/21755 */display: inline-block !important;position: relative;}#sk-container-id-5 div.sk-text-repr-fallback {display: none;}</style><div id=\"sk-container-id-5\" class=\"sk-top-container\"><div class=\"sk-text-repr-fallback\"><pre>DictVectorizer(sparse=False)</pre><b>In a Jupyter environment, please rerun this cell to show the HTML representation or trust the notebook. <br />On GitHub, the HTML representation is unable to render, please try loading this page with nbviewer.org.</b></div><div class=\"sk-container\" hidden><div class=\"sk-item\"><div class=\"sk-estimator sk-toggleable\"><input class=\"sk-toggleable__control sk-hidden--visually\" id=\"sk-estimator-id-5\" type=\"checkbox\" checked><label for=\"sk-estimator-id-5\" class=\"sk-toggleable__label sk-toggleable__label-arrow\">DictVectorizer</label><div class=\"sk-toggleable__content\"><pre>DictVectorizer(sparse=False)</pre></div></div></div></div></div>"
      ],
      "text/plain": [
       "DictVectorizer(sparse=False)"
      ]
     },
     "execution_count": 89,
     "metadata": {},
     "output_type": "execute_result"
    }
   ],
   "source": [
    "dv_small = DictVectorizer(sparse=False)\n",
    "\n",
    "dv_small.fit(dicts_train_small)"
   ]
  },
  {
   "cell_type": "code",
   "execution_count": 90,
   "id": "e3dded07",
   "metadata": {},
   "outputs": [
    {
     "data": {
      "text/plain": [
       "array(['age', 'avg_glucose_level', 'ever_married=no', 'ever_married=yes',\n",
       "       'heart_disease', 'hypertension', 'work_type=children',\n",
       "       'work_type=govt_job', 'work_type=private',\n",
       "       'work_type=self-employed'], dtype=object)"
      ]
     },
     "execution_count": 90,
     "metadata": {},
     "output_type": "execute_result"
    }
   ],
   "source": [
    "dv_small.get_feature_names_out()"
   ]
  },
  {
   "cell_type": "code",
   "execution_count": 91,
   "id": "1eb777d0",
   "metadata": {},
   "outputs": [],
   "source": [
    "X_train_small = dv_small.transform(dicts_train_small)"
   ]
  },
  {
   "cell_type": "code",
   "execution_count": 92,
   "id": "921b53ef",
   "metadata": {},
   "outputs": [
    {
     "data": {
      "text/html": [
       "<style>#sk-container-id-6 {color: black;}#sk-container-id-6 pre{padding: 0;}#sk-container-id-6 div.sk-toggleable {background-color: white;}#sk-container-id-6 label.sk-toggleable__label {cursor: pointer;display: block;width: 100%;margin-bottom: 0;padding: 0.3em;box-sizing: border-box;text-align: center;}#sk-container-id-6 label.sk-toggleable__label-arrow:before {content: \"▸\";float: left;margin-right: 0.25em;color: #696969;}#sk-container-id-6 label.sk-toggleable__label-arrow:hover:before {color: black;}#sk-container-id-6 div.sk-estimator:hover label.sk-toggleable__label-arrow:before {color: black;}#sk-container-id-6 div.sk-toggleable__content {max-height: 0;max-width: 0;overflow: hidden;text-align: left;background-color: #f0f8ff;}#sk-container-id-6 div.sk-toggleable__content pre {margin: 0.2em;color: black;border-radius: 0.25em;background-color: #f0f8ff;}#sk-container-id-6 input.sk-toggleable__control:checked~div.sk-toggleable__content {max-height: 200px;max-width: 100%;overflow: auto;}#sk-container-id-6 input.sk-toggleable__control:checked~label.sk-toggleable__label-arrow:before {content: \"▾\";}#sk-container-id-6 div.sk-estimator input.sk-toggleable__control:checked~label.sk-toggleable__label {background-color: #d4ebff;}#sk-container-id-6 div.sk-label input.sk-toggleable__control:checked~label.sk-toggleable__label {background-color: #d4ebff;}#sk-container-id-6 input.sk-hidden--visually {border: 0;clip: rect(1px 1px 1px 1px);clip: rect(1px, 1px, 1px, 1px);height: 1px;margin: -1px;overflow: hidden;padding: 0;position: absolute;width: 1px;}#sk-container-id-6 div.sk-estimator {font-family: monospace;background-color: #f0f8ff;border: 1px dotted black;border-radius: 0.25em;box-sizing: border-box;margin-bottom: 0.5em;}#sk-container-id-6 div.sk-estimator:hover {background-color: #d4ebff;}#sk-container-id-6 div.sk-parallel-item::after {content: \"\";width: 100%;border-bottom: 1px solid gray;flex-grow: 1;}#sk-container-id-6 div.sk-label:hover label.sk-toggleable__label {background-color: #d4ebff;}#sk-container-id-6 div.sk-serial::before {content: \"\";position: absolute;border-left: 1px solid gray;box-sizing: border-box;top: 0;bottom: 0;left: 50%;z-index: 0;}#sk-container-id-6 div.sk-serial {display: flex;flex-direction: column;align-items: center;background-color: white;padding-right: 0.2em;padding-left: 0.2em;position: relative;}#sk-container-id-6 div.sk-item {position: relative;z-index: 1;}#sk-container-id-6 div.sk-parallel {display: flex;align-items: stretch;justify-content: center;background-color: white;position: relative;}#sk-container-id-6 div.sk-item::before, #sk-container-id-6 div.sk-parallel-item::before {content: \"\";position: absolute;border-left: 1px solid gray;box-sizing: border-box;top: 0;bottom: 0;left: 50%;z-index: -1;}#sk-container-id-6 div.sk-parallel-item {display: flex;flex-direction: column;z-index: 1;position: relative;background-color: white;}#sk-container-id-6 div.sk-parallel-item:first-child::after {align-self: flex-end;width: 50%;}#sk-container-id-6 div.sk-parallel-item:last-child::after {align-self: flex-start;width: 50%;}#sk-container-id-6 div.sk-parallel-item:only-child::after {width: 0;}#sk-container-id-6 div.sk-dashed-wrapped {border: 1px dashed gray;margin: 0 0.4em 0.5em 0.4em;box-sizing: border-box;padding-bottom: 0.4em;background-color: white;}#sk-container-id-6 div.sk-label label {font-family: monospace;font-weight: bold;display: inline-block;line-height: 1.2em;}#sk-container-id-6 div.sk-label-container {text-align: center;}#sk-container-id-6 div.sk-container {/* jupyter's `normalize.less` sets `[hidden] { display: none; }` but bootstrap.min.css set `[hidden] { display: none !important; }` so we also need the `!important` here to be able to override the default hidden behavior on the sphinx rendered scikit-learn.org. See: https://github.com/scikit-learn/scikit-learn/issues/21755 */display: inline-block !important;position: relative;}#sk-container-id-6 div.sk-text-repr-fallback {display: none;}</style><div id=\"sk-container-id-6\" class=\"sk-top-container\"><div class=\"sk-text-repr-fallback\"><pre>LogisticRegression()</pre><b>In a Jupyter environment, please rerun this cell to show the HTML representation or trust the notebook. <br />On GitHub, the HTML representation is unable to render, please try loading this page with nbviewer.org.</b></div><div class=\"sk-container\" hidden><div class=\"sk-item\"><div class=\"sk-estimator sk-toggleable\"><input class=\"sk-toggleable__control sk-hidden--visually\" id=\"sk-estimator-id-6\" type=\"checkbox\" checked><label for=\"sk-estimator-id-6\" class=\"sk-toggleable__label sk-toggleable__label-arrow\">LogisticRegression</label><div class=\"sk-toggleable__content\"><pre>LogisticRegression()</pre></div></div></div></div></div>"
      ],
      "text/plain": [
       "LogisticRegression()"
      ]
     },
     "execution_count": 92,
     "metadata": {},
     "output_type": "execute_result"
    }
   ],
   "source": [
    "model_small = LogisticRegression()\n",
    "model_small.fit(X_train_small, y_train)"
   ]
  },
  {
   "cell_type": "code",
   "execution_count": 93,
   "id": "07bc4179",
   "metadata": {},
   "outputs": [
    {
     "data": {
      "text/plain": [
       "-5.546292849948664"
      ]
     },
     "execution_count": 93,
     "metadata": {},
     "output_type": "execute_result"
    }
   ],
   "source": [
    "w0 = model_small.intercept_[0]\n",
    "w0"
   ]
  },
  {
   "cell_type": "code",
   "execution_count": 94,
   "id": "44c7804b",
   "metadata": {},
   "outputs": [
    {
     "data": {
      "text/plain": [
       "array([ 0.068,  0.005, -0.939, -1.107,  0.356,  0.369,  0.553, -0.833,\n",
       "       -0.681, -1.085])"
      ]
     },
     "execution_count": 94,
     "metadata": {},
     "output_type": "execute_result"
    }
   ],
   "source": [
    "w = model_small.coef_[0]\n",
    "w.round(3)"
   ]
  },
  {
   "cell_type": "code",
   "execution_count": 95,
   "id": "566b2479",
   "metadata": {},
   "outputs": [
    {
     "data": {
      "text/plain": [
       "{'age': 0.068,\n",
       " 'avg_glucose_level': 0.005,\n",
       " 'ever_married=no': -0.939,\n",
       " 'ever_married=yes': -1.107,\n",
       " 'heart_disease': 0.356,\n",
       " 'hypertension': 0.369,\n",
       " 'work_type=children': 0.553,\n",
       " 'work_type=govt_job': -0.833,\n",
       " 'work_type=private': -0.681,\n",
       " 'work_type=self-employed': -1.085}"
      ]
     },
     "execution_count": 95,
     "metadata": {},
     "output_type": "execute_result"
    }
   ],
   "source": [
    "dict(zip(dv_small.get_feature_names_out(), model_small.coef_[0].round(3)))"
   ]
  },
  {
   "cell_type": "code",
   "execution_count": 96,
   "id": "edb4edd4",
   "metadata": {},
   "outputs": [
    {
     "data": {
      "text/plain": [
       "0.9718875502008032"
      ]
     },
     "execution_count": 96,
     "metadata": {},
     "output_type": "execute_result"
    }
   ],
   "source": [
    "(y_val == may_stroke).mean()"
   ]
  },
  {
   "cell_type": "markdown",
   "id": "cacb8004",
   "metadata": {},
   "source": [
    "## Using the logistic regression model"
   ]
  },
  {
   "cell_type": "code",
   "execution_count": 97,
   "id": "cf7ca46f",
   "metadata": {},
   "outputs": [
    {
     "name": "stdout",
     "output_type": "stream",
     "text": [
      "[{'gender': 'male', 'ever_married': 'no', 'work_type': 'private', 'residence_type': 'urban', 'smoking_status': 'unknown', 'hypertension': 0, 'heart_disease': 0, 'age': 30.0, 'avg_glucose_level': 113.08, 'bmi': 41.8}]\n",
      "Accuracy: 0.9388164493480441\n"
     ]
    }
   ],
   "source": [
    "dicts_full_train = df_train_full[columns_categorical + columns_binary +  columns_numerical].to_dict(orient='records')\n",
    "\n",
    "print(dicts_full_train[:1])\n",
    "\n",
    "dv = DictVectorizer(sparse=False)\n",
    "X_full_train = dv.fit_transform(dicts_full_train)\n",
    "\n",
    "y_full_train = df_train_full.stroke.values\n",
    "\n",
    "model = LogisticRegression().fit(X_full_train, y_full_train)\n",
    "\n",
    "dicts_test = df_test[columns_categorical + columns_binary +  columns_numerical].to_dict(orient='records')\n",
    "\n",
    "X_test = dv.transform(dicts_test)\n",
    "\n",
    "y_pred = model.predict_proba(X_test)[:, 1]\n",
    "\n",
    "may_stroke = (y_pred >= 0.5)\n",
    "\n",
    "print(f\"Accuracy: {(may_stroke == y_test).mean()}\")\n",
    "\n"
   ]
  },
  {
   "cell_type": "code",
   "execution_count": 98,
   "id": "741e9791",
   "metadata": {},
   "outputs": [
    {
     "name": "stdout",
     "output_type": "stream",
     "text": [
      "A customer: {'gender': 'male', 'ever_married': 'no', 'work_type': 'private', 'residence_type': 'urban', 'smoking_status': 'never_smoked', 'hypertension': 0, 'heart_disease': 0, 'age': 23.0, 'avg_glucose_level': 87.87, 'bmi': 23.4}\n",
      "transformed shape: (1, 19)\n",
      "predict stroke: 0.0051257382579050605\n",
      "actually stroked: 0\n"
     ]
    }
   ],
   "source": [
    "customer = dicts_test[10]\n",
    "print(f\"A customer: {customer}\")\n",
    "\n",
    "X_small = dv.transform([customer])\n",
    "\n",
    "print(f\"transformed shape: {X_small.shape}\")\n",
    "\n",
    "print(f\"predict stroke: {model.predict_proba(X_small)[0, 1]}\")\n",
    "print(f\"actually stroked: {y_test[10]}\")"
   ]
  },
  {
   "cell_type": "code",
   "execution_count": 99,
   "id": "bf867459",
   "metadata": {},
   "outputs": [],
   "source": [
    "X_small = dv.transform([customer])\n"
   ]
  },
  {
   "cell_type": "markdown",
   "id": "35dacbb9",
   "metadata": {},
   "source": [
    "### Evaluation metrics for classifcation"
   ]
  },
  {
   "cell_type": "code",
   "execution_count": 100,
   "id": "7e41baa5",
   "metadata": {},
   "outputs": [
    {
     "name": "stdout",
     "output_type": "stream",
     "text": [
      "[0.   0.05 0.1  0.15 0.2  0.25 0.3  0.35 0.4  0.45 0.5  0.55 0.6  0.65\n",
      " 0.7  0.75 0.8  0.85 0.9  0.95 1.  ]\n",
      "0.00 0.062\n",
      "0.05 0.753\n",
      "0.10 0.866\n",
      "0.15 0.913\n",
      "0.20 0.929\n",
      "0.25 0.941\n",
      "0.30 0.941\n",
      "0.35 0.938\n",
      "0.40 0.939\n",
      "0.45 0.939\n",
      "0.50 0.939\n",
      "0.55 0.938\n",
      "0.60 0.938\n",
      "0.65 0.938\n",
      "0.70 0.938\n",
      "0.75 0.938\n",
      "0.80 0.938\n",
      "0.85 0.938\n",
      "0.90 0.938\n",
      "0.95 0.938\n",
      "1.00 0.938\n"
     ]
    },
    {
     "data": {
      "text/plain": [
       "[<matplotlib.lines.Line2D at 0x7f32b01a3310>]"
      ]
     },
     "execution_count": 100,
     "metadata": {},
     "output_type": "execute_result"
    },
    {
     "data": {
      "image/png": "[encoded data removed]",
      "text/plain": [
       "<Figure size 640x480 with 1 Axes>"
      ]
     },
     "metadata": {},
     "output_type": "display_data"
    }
   ],
   "source": [
    "from sklearn.metrics import accuracy_score\n",
    "\n",
    "thresholds = np.linspace(0, 1, 21)\n",
    "print(thresholds)\n",
    "\n",
    "scores = []\n",
    "\n",
    "for t in thresholds:\n",
    "    may_stroke = (y_pred >= t)\n",
    "#     score = (y_val == churn_decision).mean()\n",
    "    score = accuracy_score(y_test, y_pred >= t)\n",
    "    print('%.2f %.3f' % (t, score))\n",
    "    scores.append(score)\n",
    "\n",
    "plt.plot(thresholds, scores)"
   ]
  },
  {
   "cell_type": "code",
   "execution_count": 101,
   "id": "9fcb4bdf",
   "metadata": {},
   "outputs": [
    {
     "data": {
      "text/plain": [
       "Counter({False: 997})"
      ]
     },
     "execution_count": 101,
     "metadata": {},
     "output_type": "execute_result"
    }
   ],
   "source": [
    "from collections import Counter\n",
    "\n",
    "Counter(y_pred >= 1.0)"
   ]
  },
  {
   "cell_type": "code",
   "execution_count": 102,
   "id": "9bc646f4",
   "metadata": {},
   "outputs": [
    {
     "data": {
      "text/plain": [
       "Counter({0: 935, 1: 62})"
      ]
     },
     "execution_count": 102,
     "metadata": {},
     "output_type": "execute_result"
    }
   ],
   "source": [
    "Counter(y_test)"
   ]
  },
  {
   "cell_type": "code",
   "execution_count": 103,
   "id": "f613fe2f",
   "metadata": {},
   "outputs": [
    {
     "data": {
      "text/plain": [
       "0.062186559679037114"
      ]
     },
     "execution_count": 103,
     "metadata": {},
     "output_type": "execute_result"
    }
   ],
   "source": [
    "y_test.mean()"
   ]
  },
  {
   "cell_type": "code",
   "execution_count": 104,
   "id": "10b2098f",
   "metadata": {},
   "outputs": [
    {
     "data": {
      "text/plain": [
       "0.9378134403209629"
      ]
     },
     "execution_count": 104,
     "metadata": {},
     "output_type": "execute_result"
    }
   ],
   "source": [
    "1 - y_test.mean()"
   ]
  },
  {
   "cell_type": "code",
   "execution_count": 105,
   "id": "2c77ef20",
   "metadata": {},
   "outputs": [],
   "source": [
    "def vectorize(df_train, dv = None):\n",
    "    dicts = df_train[columns_categorical + columns_binary + columns_numerical].to_dict(orient='records')\n",
    "    if dv == None:\n",
    "        dv = DictVectorizer(sparse=False)\n",
    "        X_train = dv.fit_transform(dicts)\n",
    "    else:\n",
    "        X_train = dv.transform(dicts)\n",
    "\n",
    "    return X_train, dv"
   ]
  },
  {
   "cell_type": "code",
   "execution_count": 106,
   "id": "e109e137",
   "metadata": {},
   "outputs": [],
   "source": [
    "def train(df_train, y_train, C=1.0):\n",
    "    X_train, dv = vectorize(df_train)\n",
    "\n",
    "    model = LogisticRegression(C=C, max_iter=1000)\n",
    "    model.fit(X_train, y_train)\n",
    "    \n",
    "    return dv, model"
   ]
  },
  {
   "cell_type": "code",
   "execution_count": 107,
   "id": "0e04701b",
   "metadata": {},
   "outputs": [],
   "source": [
    "def predict(df, dv, model):\n",
    "    dicts = df[columns_categorical + columns_binary + columns_numerical].to_dict(orient='records')\n",
    "\n",
    "    X = dv.transform(dicts)\n",
    "    y_pred = model.predict_proba(X)[:, 1]\n",
    "\n",
    "    return y_pred"
   ]
  },
  {
   "cell_type": "code",
   "execution_count": 108,
   "id": "57dd53c3",
   "metadata": {},
   "outputs": [
    {
     "data": {
      "application/vnd.jupyter.widget-view+json": {
       "model_id": "abeecc333d3f4a13b4a93acb64bc0ec8",
       "version_major": 2,
       "version_minor": 0
      },
      "text/plain": [
       "HBox(children=(HTML(value=''), FloatProgress(value=0.0, max=7.0), HTML(value='')))"
      ]
     },
     "metadata": {},
     "output_type": "display_data"
    },
    {
     "name": "stdout",
     "output_type": "stream",
     "text": [
      "C=0.001 0.832 +- 0.033\n",
      "C=0.01 0.834 +- 0.034\n",
      "C=0.1 0.835 +- 0.036\n",
      "C=0.5 0.835 +- 0.038\n",
      "C=1 0.834 +- 0.038\n",
      "C=5 0.834 +- 0.038\n",
      "C=10 0.834 +- 0.038\n",
      "\n"
     ]
    }
   ],
   "source": [
    "n_splits = 5\n",
    "\n",
    "for C in tqdm([0.001, 0.01, 0.1, 0.5, 1, 5, 10]):\n",
    "    kfold = KFold(n_splits=n_splits, shuffle=True, random_state=1)\n",
    "\n",
    "    scores = []\n",
    "\n",
    "    for train_idx, val_idx in kfold.split(df_train_full):\n",
    "        df_train = df_train_full.iloc[train_idx]\n",
    "        df_val = df_train_full.iloc[val_idx]\n",
    "\n",
    "        y_train = df_train.stroke.values\n",
    "        y_val = df_val.stroke.values\n",
    "\n",
    "        dv, model = train(df_train, y_train, C=C)\n",
    "        y_pred = predict(df_val, dv, model)\n",
    "\n",
    "        auc = roc_auc_score(y_val, y_pred)\n",
    "        scores.append(auc)\n",
    "\n",
    "    print('C=%s %.3f +- %.3f' % (C, np.mean(scores), np.std(scores)))"
   ]
  },
  {
   "cell_type": "code",
   "execution_count": 109,
   "id": "553c0421",
   "metadata": {},
   "outputs": [
    {
     "data": {
      "text/plain": [
       "0.18067997031972086"
      ]
     },
     "execution_count": 109,
     "metadata": {},
     "output_type": "execute_result"
    }
   ],
   "source": [
    "dv, model = train(df_train, y_train, C=0.5)\n",
    "y_pred = predict(df_val, dv, model)\n",
    "mean_squared_error(y_val, y_pred, squared=False)"
   ]
  },
  {
   "cell_type": "markdown",
   "id": "7b54408e",
   "metadata": {},
   "source": [
    "## Ridge Regression"
   ]
  },
  {
   "cell_type": "code",
   "execution_count": 110,
   "id": "0f9d2d4b",
   "metadata": {},
   "outputs": [
    {
     "name": "stdout",
     "output_type": "stream",
     "text": [
      "alpha: 0.001, rmse:0.17964\n",
      "alpha:  0.01, rmse:0.17964\n",
      "alpha:   0.5, rmse:0.17964\n",
      "alpha:     1, rmse:0.17964\n",
      "alpha:     3, rmse:0.17962\n",
      "alpha:     5, rmse:0.17961\n",
      "alpha:    10, rmse:0.17959\n"
     ]
    }
   ],
   "source": [
    "rmses = []\n",
    "\n",
    "for alpha in [0.001, 0.01, 0.5, 1, 3, 5, 10]:\n",
    "    model_ridge = Ridge(alpha=alpha, random_state=42, max_iter=200)\n",
    "    X_train, dv = vectorize(df_train)\n",
    "    model_ridge.fit(X_train, y_train)\n",
    "    X_val, _ = vectorize(df_val, dv)\n",
    "    y_pred = model_ridge.predict(X_val)\n",
    "    rmse = mean_squared_error(y_val, y_pred, squared=False)\n",
    "    rmses.append(rmse)\n",
    "    print(f'alpha:{alpha:>6}, rmse:{rmse:.5f}')"
   ]
  },
  {
   "cell_type": "code",
   "execution_count": 111,
   "id": "3700734e",
   "metadata": {},
   "outputs": [
    {
     "data": {
      "text/plain": [
       "0.17958677638326245"
      ]
     },
     "execution_count": 111,
     "metadata": {},
     "output_type": "execute_result"
    }
   ],
   "source": [
    "model_ridge = Ridge(alpha=10)\n",
    "X_train, dv = vectorize(df_train)\n",
    "model_ridge.fit(X_train, y_train)\n",
    "X_val, _ = vectorize(df_val, dv)\n",
    "y_pred = model_ridge.predict(X_val)\n",
    "mean_squared_error(y_val, y_pred, squared=False)"
   ]
  },
  {
   "cell_type": "markdown",
   "id": "99baeaa2",
   "metadata": {},
   "source": [
    "## Random Forest"
   ]
  },
  {
   "cell_type": "code",
   "execution_count": 112,
   "id": "20fe5512",
   "metadata": {},
   "outputs": [],
   "source": [
    "df_full_train, df_test = train_test_split(df, test_size=0.2, random_state=11)\n",
    "df_train, df_val = train_test_split(df_full_train, test_size=0.25, random_state=11)\n",
    "\n",
    "df_train = df_train.reset_index(drop=True)\n",
    "df_val = df_val.reset_index(drop=True)\n",
    "df_test = df_test.reset_index(drop=True)\n",
    "\n",
    "y_train = (df_train.stroke == 1).astype('int').values\n",
    "y_val = (df_val.stroke == 1).astype('int').values\n",
    "y_test = (df_test.stroke == 1).astype('int').values\n",
    "\n",
    "del df_train['stroke']\n",
    "del df_val['stroke']\n",
    "del df_test['stroke']"
   ]
  },
  {
   "cell_type": "code",
   "execution_count": 113,
   "id": "3a367a25",
   "metadata": {},
   "outputs": [
    {
     "data": {
      "text/plain": [
       "array(['age', 'avg_glucose_level', 'bmi', 'ever_married', 'gender',\n",
       "       'heart_disease', 'hypertension', 'residence_type=rural',\n",
       "       'residence_type=urban', 'smoking_status=formerly_smoked',\n",
       "       'smoking_status=never_smoked', 'smoking_status=smokes',\n",
       "       'smoking_status=unknown', 'work_type=children',\n",
       "       'work_type=govt_job', 'work_type=private',\n",
       "       'work_type=self-employed'], dtype=object)"
      ]
     },
     "execution_count": 113,
     "metadata": {},
     "output_type": "execute_result"
    }
   ],
   "source": [
    "train_dicts = df_train.fillna(0).to_dict(orient='records')\n",
    "\n",
    "dv = DictVectorizer(sparse=False)\n",
    "X_train = dv.fit_transform(train_dicts)\n",
    "\n",
    "dv.get_feature_names_out(X_train)"
   ]
  },
  {
   "cell_type": "code",
   "execution_count": 114,
   "id": "6bf6e5a1",
   "metadata": {},
   "outputs": [],
   "source": [
    "val_dicts = df_val.fillna(0).to_dict(orient='records')\n",
    "X_val = dv.transform(val_dicts)"
   ]
  },
  {
   "cell_type": "code",
   "execution_count": 115,
   "id": "c4008844",
   "metadata": {},
   "outputs": [
    {
     "name": "stdout",
     "output_type": "stream",
     "text": [
      "i:     10, rmse: 0.20535\n",
      "i:     20, rmse: 0.20086\n",
      "i:     30, rmse: 0.19723\n",
      "i:     40, rmse: 0.19830\n",
      "i:     50, rmse: 0.19776\n",
      "i:     60, rmse: 0.19795\n",
      "i:     70, rmse: 0.19845\n",
      "i:     80, rmse: 0.19802\n",
      "i:     90, rmse: 0.19781\n",
      "i:    100, rmse: 0.19821\n",
      "i:    110, rmse: 0.19754\n",
      "i:    120, rmse: 0.19737\n",
      "i:    130, rmse: 0.19690\n",
      "i:    140, rmse: 0.19677\n",
      "i:    150, rmse: 0.19692\n",
      "i:    160, rmse: 0.19666\n",
      "i:    170, rmse: 0.19636\n",
      "i:    180, rmse: 0.19610\n",
      "i:    190, rmse: 0.19585\n",
      "i:    200, rmse: 0.19553\n"
     ]
    }
   ],
   "source": [
    "rmses = []\n",
    "for i in range(10, 201, 10):\n",
    "    rf = RandomForestClassifier(n_estimators=i, random_state=31)\n",
    "    rf.fit(X_train, y_train)\n",
    "    y_pred = rf.predict_proba(X_val)[:, 1]\n",
    "    rmse = mean_squared_error(y_val, y_pred, squared=False)\n",
    "    rmses.append(rmse)\n",
    "    print(f'i: {i:>6}, rmse: {rmse:.5f}')"
   ]
  }
 ],
 "metadata": {
  "kernelspec": {
   "display_name": "Python 3 (ipykernel)",
   "language": "python",
   "name": "python3"
  },
  "language_info": {
   "codemirror_mode": {
    "name": "ipython",
    "version": 3
   },
   "file_extension": ".py",
   "mimetype": "text/x-python",
   "name": "python",
   "nbconvert_exporter": "python",
   "pygments_lexer": "ipython3",
   "version": "3.8.5"
  }
 },
 "nbformat": 4,
 "nbformat_minor": 5
}
